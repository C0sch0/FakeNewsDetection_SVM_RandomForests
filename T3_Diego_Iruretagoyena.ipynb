{
 "cells": [
  {
   "cell_type": "markdown",
   "metadata": {},
   "source": [
    "# Tarea 3 - Inteligencia Artificial IIC2613\n",
    "\n",
    "## Detección de Noticias Falsas\n",
    "\n",
    "\n",
    "\n",
    "Diego Iruretagoyena - 14619164 - diiru@uc.cl"
   ]
  },
  {
   "cell_type": "markdown",
   "metadata": {},
   "source": [
    "En esta tarea utilizaremos técnicas vistas en clase para identificar notificias falsas. \n",
    "Para esto, realizaremos los siguientes pasos:\n",
    "\n",
    "- Preprocesamiento de los datos.\n",
    "- Tranformación a feature space númerico utilizando Bag of Words, Word2Vec y Bert.\n",
    "- Clasificación usando SVM y Random Forest\n",
    "- Analizar los resultados obtenidos."
   ]
  },
  {
   "cell_type": "markdown",
   "metadata": {},
   "source": [
    "## AC00: Lectura y pre-procesamiento de datos\n",
    "\n",
    "Pasos:\n",
    "- Leer CSVs\n",
    "- Eliminar nulos\n",
    "- Taggear según Noticia Verdadera o Falsa\n",
    "- Filtrar Stopwords y ruido como caracteres no alfabeticos\n",
    "- Pasar a minuscula\n"
   ]
  },
  {
   "cell_type": "code",
   "execution_count": 87,
   "metadata": {},
   "outputs": [],
   "source": [
    "import operator\n",
    "import re\n",
    "import textblob\n",
    "from textblob import Word\n",
    "import nltk\n",
    "\n",
    "import warnings\n",
    "import pandas as pd\n",
    "import numpy as np\n",
    "import multiprocessing\n",
    "\n",
    "from sklearn.svm import SVC\n",
    "import matplotlib.pyplot as plt\n",
    "from wordcloud import WordCloud\n",
    "from IPython.display import Image\n",
    "from nltk.corpus import stopwords\n",
    "\n",
    "from gensim.models import Word2Vec\n",
    "from gensim.models import KeyedVectors\n",
    "from sklearn.metrics import accuracy_score, confusion_matrix\n",
    "\n",
    "from nltk.probability import FreqDist\n",
    "from sklearn.preprocessing import normalize\n",
    "from sklearn.metrics import confusion_matrix\n",
    "from sklearn.decomposition import TruncatedSVD\n",
    "from sklearn.datasets import make_classification\n",
    "from sklearn.ensemble import RandomForestClassifier\n",
    "from sklearn.datasets import make_classification\n",
    "\n",
    "from sklearn.model_selection import train_test_split\n",
    "from sklearn.feature_extraction.text import CountVectorizer"
   ]
  },
  {
   "cell_type": "code",
   "execution_count": 2,
   "metadata": {},
   "outputs": [
    {
     "data": {
      "text/html": [
       "<div>\n",
       "<style scoped>\n",
       "    .dataframe tbody tr th:only-of-type {\n",
       "        vertical-align: middle;\n",
       "    }\n",
       "\n",
       "    .dataframe tbody tr th {\n",
       "        vertical-align: top;\n",
       "    }\n",
       "\n",
       "    .dataframe thead th {\n",
       "        text-align: right;\n",
       "    }\n",
       "</style>\n",
       "<table border=\"1\" class=\"dataframe\">\n",
       "  <thead>\n",
       "    <tr style=\"text-align: right;\">\n",
       "      <th></th>\n",
       "      <th>title</th>\n",
       "      <th>text</th>\n",
       "      <th>subject</th>\n",
       "      <th>date</th>\n",
       "    </tr>\n",
       "  </thead>\n",
       "  <tbody>\n",
       "    <tr>\n",
       "      <th>0</th>\n",
       "      <td>Donald Trump Sends Out Embarrassing New Year’...</td>\n",
       "      <td>Donald Trump just couldn t wish all Americans ...</td>\n",
       "      <td>News</td>\n",
       "      <td>December 31, 2017</td>\n",
       "    </tr>\n",
       "    <tr>\n",
       "      <th>1</th>\n",
       "      <td>Drunk Bragging Trump Staffer Started Russian ...</td>\n",
       "      <td>House Intelligence Committee Chairman Devin Nu...</td>\n",
       "      <td>News</td>\n",
       "      <td>December 31, 2017</td>\n",
       "    </tr>\n",
       "    <tr>\n",
       "      <th>2</th>\n",
       "      <td>Sheriff David Clarke Becomes An Internet Joke...</td>\n",
       "      <td>On Friday, it was revealed that former Milwauk...</td>\n",
       "      <td>News</td>\n",
       "      <td>December 30, 2017</td>\n",
       "    </tr>\n",
       "    <tr>\n",
       "      <th>3</th>\n",
       "      <td>Trump Is So Obsessed He Even Has Obama’s Name...</td>\n",
       "      <td>On Christmas day, Donald Trump announced that ...</td>\n",
       "      <td>News</td>\n",
       "      <td>December 29, 2017</td>\n",
       "    </tr>\n",
       "    <tr>\n",
       "      <th>4</th>\n",
       "      <td>Pope Francis Just Called Out Donald Trump Dur...</td>\n",
       "      <td>Pope Francis used his annual Christmas Day mes...</td>\n",
       "      <td>News</td>\n",
       "      <td>December 25, 2017</td>\n",
       "    </tr>\n",
       "    <tr>\n",
       "      <th>...</th>\n",
       "      <td>...</td>\n",
       "      <td>...</td>\n",
       "      <td>...</td>\n",
       "      <td>...</td>\n",
       "    </tr>\n",
       "    <tr>\n",
       "      <th>23476</th>\n",
       "      <td>McPain: John McCain Furious That Iran Treated ...</td>\n",
       "      <td>21st Century Wire says As 21WIRE reported earl...</td>\n",
       "      <td>Middle-east</td>\n",
       "      <td>January 16, 2016</td>\n",
       "    </tr>\n",
       "    <tr>\n",
       "      <th>23477</th>\n",
       "      <td>JUSTICE? Yahoo Settles E-mail Privacy Class-ac...</td>\n",
       "      <td>21st Century Wire says It s a familiar theme. ...</td>\n",
       "      <td>Middle-east</td>\n",
       "      <td>January 16, 2016</td>\n",
       "    </tr>\n",
       "    <tr>\n",
       "      <th>23478</th>\n",
       "      <td>Sunnistan: US and Allied ‘Safe Zone’ Plan to T...</td>\n",
       "      <td>Patrick Henningsen  21st Century WireRemember ...</td>\n",
       "      <td>Middle-east</td>\n",
       "      <td>January 15, 2016</td>\n",
       "    </tr>\n",
       "    <tr>\n",
       "      <th>23479</th>\n",
       "      <td>How to Blow $700 Million: Al Jazeera America F...</td>\n",
       "      <td>21st Century Wire says Al Jazeera America will...</td>\n",
       "      <td>Middle-east</td>\n",
       "      <td>January 14, 2016</td>\n",
       "    </tr>\n",
       "    <tr>\n",
       "      <th>23480</th>\n",
       "      <td>10 U.S. Navy Sailors Held by Iranian Military ...</td>\n",
       "      <td>21st Century Wire says As 21WIRE predicted in ...</td>\n",
       "      <td>Middle-east</td>\n",
       "      <td>January 12, 2016</td>\n",
       "    </tr>\n",
       "  </tbody>\n",
       "</table>\n",
       "<p>23481 rows × 4 columns</p>\n",
       "</div>"
      ],
      "text/plain": [
       "                                                   title  \\\n",
       "0       Donald Trump Sends Out Embarrassing New Year’...   \n",
       "1       Drunk Bragging Trump Staffer Started Russian ...   \n",
       "2       Sheriff David Clarke Becomes An Internet Joke...   \n",
       "3       Trump Is So Obsessed He Even Has Obama’s Name...   \n",
       "4       Pope Francis Just Called Out Donald Trump Dur...   \n",
       "...                                                  ...   \n",
       "23476  McPain: John McCain Furious That Iran Treated ...   \n",
       "23477  JUSTICE? Yahoo Settles E-mail Privacy Class-ac...   \n",
       "23478  Sunnistan: US and Allied ‘Safe Zone’ Plan to T...   \n",
       "23479  How to Blow $700 Million: Al Jazeera America F...   \n",
       "23480  10 U.S. Navy Sailors Held by Iranian Military ...   \n",
       "\n",
       "                                                    text      subject  \\\n",
       "0      Donald Trump just couldn t wish all Americans ...         News   \n",
       "1      House Intelligence Committee Chairman Devin Nu...         News   \n",
       "2      On Friday, it was revealed that former Milwauk...         News   \n",
       "3      On Christmas day, Donald Trump announced that ...         News   \n",
       "4      Pope Francis used his annual Christmas Day mes...         News   \n",
       "...                                                  ...          ...   \n",
       "23476  21st Century Wire says As 21WIRE reported earl...  Middle-east   \n",
       "23477  21st Century Wire says It s a familiar theme. ...  Middle-east   \n",
       "23478  Patrick Henningsen  21st Century WireRemember ...  Middle-east   \n",
       "23479  21st Century Wire says Al Jazeera America will...  Middle-east   \n",
       "23480  21st Century Wire says As 21WIRE predicted in ...  Middle-east   \n",
       "\n",
       "                    date  \n",
       "0      December 31, 2017  \n",
       "1      December 31, 2017  \n",
       "2      December 30, 2017  \n",
       "3      December 29, 2017  \n",
       "4      December 25, 2017  \n",
       "...                  ...  \n",
       "23476   January 16, 2016  \n",
       "23477   January 16, 2016  \n",
       "23478   January 15, 2016  \n",
       "23479   January 14, 2016  \n",
       "23480   January 12, 2016  \n",
       "\n",
       "[23481 rows x 4 columns]"
      ]
     },
     "execution_count": 2,
     "metadata": {},
     "output_type": "execute_result"
    }
   ],
   "source": [
    "# Leemos los CSVs y limpiamos nulos\n",
    "\n",
    "true_df = pd.read_csv('True.csv')\n",
    "false_df = pd.read_csv('Fake.csv')\n",
    "\n",
    "true_df.dropna()\n",
    "false_df.dropna()"
   ]
  },
  {
   "cell_type": "code",
   "execution_count": 3,
   "metadata": {},
   "outputs": [
    {
     "data": {
      "text/html": [
       "<div>\n",
       "<style scoped>\n",
       "    .dataframe tbody tr th:only-of-type {\n",
       "        vertical-align: middle;\n",
       "    }\n",
       "\n",
       "    .dataframe tbody tr th {\n",
       "        vertical-align: top;\n",
       "    }\n",
       "\n",
       "    .dataframe thead th {\n",
       "        text-align: right;\n",
       "    }\n",
       "</style>\n",
       "<table border=\"1\" class=\"dataframe\">\n",
       "  <thead>\n",
       "    <tr style=\"text-align: right;\">\n",
       "      <th></th>\n",
       "      <th>title</th>\n",
       "      <th>text</th>\n",
       "      <th>subject</th>\n",
       "      <th>date</th>\n",
       "    </tr>\n",
       "  </thead>\n",
       "  <tbody>\n",
       "    <tr>\n",
       "      <th>0</th>\n",
       "      <td>As U.S. budget fight looms, Republicans flip t...</td>\n",
       "      <td>WASHINGTON (Reuters) - The head of a conservat...</td>\n",
       "      <td>politicsNews</td>\n",
       "      <td>December 31, 2017</td>\n",
       "    </tr>\n",
       "    <tr>\n",
       "      <th>1</th>\n",
       "      <td>U.S. military to accept transgender recruits o...</td>\n",
       "      <td>WASHINGTON (Reuters) - Transgender people will...</td>\n",
       "      <td>politicsNews</td>\n",
       "      <td>December 29, 2017</td>\n",
       "    </tr>\n",
       "    <tr>\n",
       "      <th>2</th>\n",
       "      <td>Senior U.S. Republican senator: 'Let Mr. Muell...</td>\n",
       "      <td>WASHINGTON (Reuters) - The special counsel inv...</td>\n",
       "      <td>politicsNews</td>\n",
       "      <td>December 31, 2017</td>\n",
       "    </tr>\n",
       "    <tr>\n",
       "      <th>3</th>\n",
       "      <td>FBI Russia probe helped by Australian diplomat...</td>\n",
       "      <td>WASHINGTON (Reuters) - Trump campaign adviser ...</td>\n",
       "      <td>politicsNews</td>\n",
       "      <td>December 30, 2017</td>\n",
       "    </tr>\n",
       "    <tr>\n",
       "      <th>4</th>\n",
       "      <td>Trump wants Postal Service to charge 'much mor...</td>\n",
       "      <td>SEATTLE/WASHINGTON (Reuters) - President Donal...</td>\n",
       "      <td>politicsNews</td>\n",
       "      <td>December 29, 2017</td>\n",
       "    </tr>\n",
       "  </tbody>\n",
       "</table>\n",
       "</div>"
      ],
      "text/plain": [
       "                                               title  \\\n",
       "0  As U.S. budget fight looms, Republicans flip t...   \n",
       "1  U.S. military to accept transgender recruits o...   \n",
       "2  Senior U.S. Republican senator: 'Let Mr. Muell...   \n",
       "3  FBI Russia probe helped by Australian diplomat...   \n",
       "4  Trump wants Postal Service to charge 'much mor...   \n",
       "\n",
       "                                                text       subject  \\\n",
       "0  WASHINGTON (Reuters) - The head of a conservat...  politicsNews   \n",
       "1  WASHINGTON (Reuters) - Transgender people will...  politicsNews   \n",
       "2  WASHINGTON (Reuters) - The special counsel inv...  politicsNews   \n",
       "3  WASHINGTON (Reuters) - Trump campaign adviser ...  politicsNews   \n",
       "4  SEATTLE/WASHINGTON (Reuters) - President Donal...  politicsNews   \n",
       "\n",
       "                 date  \n",
       "0  December 31, 2017   \n",
       "1  December 29, 2017   \n",
       "2  December 31, 2017   \n",
       "3  December 30, 2017   \n",
       "4  December 29, 2017   "
      ]
     },
     "execution_count": 3,
     "metadata": {},
     "output_type": "execute_result"
    }
   ],
   "source": [
    "# Revisamos contenido True.CSV\n",
    "\n",
    "true_df.head()"
   ]
  },
  {
   "cell_type": "code",
   "execution_count": 4,
   "metadata": {},
   "outputs": [
    {
     "data": {
      "text/html": [
       "<div>\n",
       "<style scoped>\n",
       "    .dataframe tbody tr th:only-of-type {\n",
       "        vertical-align: middle;\n",
       "    }\n",
       "\n",
       "    .dataframe tbody tr th {\n",
       "        vertical-align: top;\n",
       "    }\n",
       "\n",
       "    .dataframe thead th {\n",
       "        text-align: right;\n",
       "    }\n",
       "</style>\n",
       "<table border=\"1\" class=\"dataframe\">\n",
       "  <thead>\n",
       "    <tr style=\"text-align: right;\">\n",
       "      <th></th>\n",
       "      <th>title</th>\n",
       "      <th>text</th>\n",
       "      <th>subject</th>\n",
       "      <th>date</th>\n",
       "    </tr>\n",
       "  </thead>\n",
       "  <tbody>\n",
       "    <tr>\n",
       "      <th>0</th>\n",
       "      <td>Donald Trump Sends Out Embarrassing New Year’...</td>\n",
       "      <td>Donald Trump just couldn t wish all Americans ...</td>\n",
       "      <td>News</td>\n",
       "      <td>December 31, 2017</td>\n",
       "    </tr>\n",
       "    <tr>\n",
       "      <th>1</th>\n",
       "      <td>Drunk Bragging Trump Staffer Started Russian ...</td>\n",
       "      <td>House Intelligence Committee Chairman Devin Nu...</td>\n",
       "      <td>News</td>\n",
       "      <td>December 31, 2017</td>\n",
       "    </tr>\n",
       "    <tr>\n",
       "      <th>2</th>\n",
       "      <td>Sheriff David Clarke Becomes An Internet Joke...</td>\n",
       "      <td>On Friday, it was revealed that former Milwauk...</td>\n",
       "      <td>News</td>\n",
       "      <td>December 30, 2017</td>\n",
       "    </tr>\n",
       "    <tr>\n",
       "      <th>3</th>\n",
       "      <td>Trump Is So Obsessed He Even Has Obama’s Name...</td>\n",
       "      <td>On Christmas day, Donald Trump announced that ...</td>\n",
       "      <td>News</td>\n",
       "      <td>December 29, 2017</td>\n",
       "    </tr>\n",
       "    <tr>\n",
       "      <th>4</th>\n",
       "      <td>Pope Francis Just Called Out Donald Trump Dur...</td>\n",
       "      <td>Pope Francis used his annual Christmas Day mes...</td>\n",
       "      <td>News</td>\n",
       "      <td>December 25, 2017</td>\n",
       "    </tr>\n",
       "  </tbody>\n",
       "</table>\n",
       "</div>"
      ],
      "text/plain": [
       "                                               title  \\\n",
       "0   Donald Trump Sends Out Embarrassing New Year’...   \n",
       "1   Drunk Bragging Trump Staffer Started Russian ...   \n",
       "2   Sheriff David Clarke Becomes An Internet Joke...   \n",
       "3   Trump Is So Obsessed He Even Has Obama’s Name...   \n",
       "4   Pope Francis Just Called Out Donald Trump Dur...   \n",
       "\n",
       "                                                text subject  \\\n",
       "0  Donald Trump just couldn t wish all Americans ...    News   \n",
       "1  House Intelligence Committee Chairman Devin Nu...    News   \n",
       "2  On Friday, it was revealed that former Milwauk...    News   \n",
       "3  On Christmas day, Donald Trump announced that ...    News   \n",
       "4  Pope Francis used his annual Christmas Day mes...    News   \n",
       "\n",
       "                date  \n",
       "0  December 31, 2017  \n",
       "1  December 31, 2017  \n",
       "2  December 30, 2017  \n",
       "3  December 29, 2017  \n",
       "4  December 25, 2017  "
      ]
     },
     "execution_count": 4,
     "metadata": {},
     "output_type": "execute_result"
    }
   ],
   "source": [
    "# Revisamos contenido False.CSV\n",
    "\n",
    "false_df.head()"
   ]
  },
  {
   "cell_type": "code",
   "execution_count": 5,
   "metadata": {},
   "outputs": [
    {
     "data": {
      "text/html": [
       "<div>\n",
       "<style scoped>\n",
       "    .dataframe tbody tr th:only-of-type {\n",
       "        vertical-align: middle;\n",
       "    }\n",
       "\n",
       "    .dataframe tbody tr th {\n",
       "        vertical-align: top;\n",
       "    }\n",
       "\n",
       "    .dataframe thead th {\n",
       "        text-align: right;\n",
       "    }\n",
       "</style>\n",
       "<table border=\"1\" class=\"dataframe\">\n",
       "  <thead>\n",
       "    <tr style=\"text-align: right;\">\n",
       "      <th></th>\n",
       "      <th>title</th>\n",
       "      <th>text</th>\n",
       "      <th>subject</th>\n",
       "      <th>date</th>\n",
       "      <th>label</th>\n",
       "    </tr>\n",
       "  </thead>\n",
       "  <tbody>\n",
       "    <tr>\n",
       "      <th>0</th>\n",
       "      <td>Iran denies U.S. accusation of destabilizing t...</td>\n",
       "      <td>BEIRUT (Reuters) - Iran s foreign ministry den...</td>\n",
       "      <td>worldnews</td>\n",
       "      <td>December 6, 2017</td>\n",
       "      <td>0</td>\n",
       "    </tr>\n",
       "    <tr>\n",
       "      <th>1</th>\n",
       "      <td>Despite flaws, paperless voting machines remai...</td>\n",
       "      <td>WASHINGTON (Reuters) - One in four registered ...</td>\n",
       "      <td>politicsNews</td>\n",
       "      <td>September 20, 2016</td>\n",
       "      <td>0</td>\n",
       "    </tr>\n",
       "    <tr>\n",
       "      <th>2</th>\n",
       "      <td>German coalition candidates want 40 percent cu...</td>\n",
       "      <td>BERLIN (Reuters) - German parties in explorato...</td>\n",
       "      <td>worldnews</td>\n",
       "      <td>October 26, 2017</td>\n",
       "      <td>0</td>\n",
       "    </tr>\n",
       "    <tr>\n",
       "      <th>3</th>\n",
       "      <td>SLICK SCAM: John Kerry Warns Global Warming Wi...</td>\n",
       "      <td>Sure, we need to save people from something th...</td>\n",
       "      <td>Government News</td>\n",
       "      <td>Oct 9, 2015</td>\n",
       "      <td>1</td>\n",
       "    </tr>\n",
       "    <tr>\n",
       "      <th>4</th>\n",
       "      <td>Guatemala top court sides with U.N. graft unit...</td>\n",
       "      <td>GUATEMALA CITY (Reuters) - Guatemala s top cou...</td>\n",
       "      <td>worldnews</td>\n",
       "      <td>August 29, 2017</td>\n",
       "      <td>0</td>\n",
       "    </tr>\n",
       "  </tbody>\n",
       "</table>\n",
       "</div>"
      ],
      "text/plain": [
       "                                               title  \\\n",
       "0  Iran denies U.S. accusation of destabilizing t...   \n",
       "1  Despite flaws, paperless voting machines remai...   \n",
       "2  German coalition candidates want 40 percent cu...   \n",
       "3  SLICK SCAM: John Kerry Warns Global Warming Wi...   \n",
       "4  Guatemala top court sides with U.N. graft unit...   \n",
       "\n",
       "                                                text          subject  \\\n",
       "0  BEIRUT (Reuters) - Iran s foreign ministry den...        worldnews   \n",
       "1  WASHINGTON (Reuters) - One in four registered ...     politicsNews   \n",
       "2  BERLIN (Reuters) - German parties in explorato...        worldnews   \n",
       "3  Sure, we need to save people from something th...  Government News   \n",
       "4  GUATEMALA CITY (Reuters) - Guatemala s top cou...        worldnews   \n",
       "\n",
       "                  date  label  \n",
       "0    December 6, 2017       0  \n",
       "1  September 20, 2016       0  \n",
       "2    October 26, 2017       0  \n",
       "3          Oct 9, 2015      1  \n",
       "4     August 29, 2017       0  "
      ]
     },
     "execution_count": 5,
     "metadata": {},
     "output_type": "execute_result"
    }
   ],
   "source": [
    "# Taggeamos segun Verdadero / Falso y juntamos todo en un dataset.\n",
    "\n",
    "for i, db in enumerate([true_df, false_df]):\n",
    "    db['label'] = [i for j in range(db.shape[0])]\n",
    "    \n",
    "df = pd.concat([true_df, false_df])\n",
    "df = df.sample(frac=1).reset_index(drop=True)\n",
    "df.head()\n"
   ]
  },
  {
   "cell_type": "code",
   "execution_count": 6,
   "metadata": {},
   "outputs": [
    {
     "name": "stdout",
     "output_type": "stream",
     "text": [
      "44898\n"
     ]
    }
   ],
   "source": [
    "print(len(df))"
   ]
  },
  {
   "cell_type": "code",
   "execution_count": 53,
   "metadata": {},
   "outputs": [],
   "source": [
    "labels_ = df['label']"
   ]
  },
  {
   "cell_type": "markdown",
   "metadata": {},
   "source": [
    "Ahora limpiamos stopwords y caracteres especiales (ruido)"
   ]
  },
  {
   "cell_type": "code",
   "execution_count": 7,
   "metadata": {},
   "outputs": [],
   "source": [
    "# nltk.download('wordnet')"
   ]
  },
  {
   "cell_type": "code",
   "execution_count": 8,
   "metadata": {},
   "outputs": [
    {
     "data": {
      "text/html": [
       "<div>\n",
       "<style scoped>\n",
       "    .dataframe tbody tr th:only-of-type {\n",
       "        vertical-align: middle;\n",
       "    }\n",
       "\n",
       "    .dataframe tbody tr th {\n",
       "        vertical-align: top;\n",
       "    }\n",
       "\n",
       "    .dataframe thead th {\n",
       "        text-align: right;\n",
       "    }\n",
       "</style>\n",
       "<table border=\"1\" class=\"dataframe\">\n",
       "  <thead>\n",
       "    <tr style=\"text-align: right;\">\n",
       "      <th></th>\n",
       "      <th>title</th>\n",
       "      <th>text</th>\n",
       "      <th>subject</th>\n",
       "      <th>date</th>\n",
       "      <th>label</th>\n",
       "      <th>text_tokenize</th>\n",
       "      <th>text_cleanned</th>\n",
       "    </tr>\n",
       "  </thead>\n",
       "  <tbody>\n",
       "    <tr>\n",
       "      <th>0</th>\n",
       "      <td>Iran denies U.S. accusation of destabilizing t...</td>\n",
       "      <td>BEIRUT (Reuters) - Iran s foreign ministry den...</td>\n",
       "      <td>worldnews</td>\n",
       "      <td>December 6, 2017</td>\n",
       "      <td>0</td>\n",
       "      <td>[beirut, reuters, iran, foreign, ministry, den...</td>\n",
       "      <td>beirut reuters iran foreign ministry denied we...</td>\n",
       "    </tr>\n",
       "    <tr>\n",
       "      <th>1</th>\n",
       "      <td>Despite flaws, paperless voting machines remai...</td>\n",
       "      <td>WASHINGTON (Reuters) - One in four registered ...</td>\n",
       "      <td>politicsNews</td>\n",
       "      <td>September 20, 2016</td>\n",
       "      <td>0</td>\n",
       "      <td>[washington, reuters, one, four, registered, v...</td>\n",
       "      <td>washington reuters one four registered voter u...</td>\n",
       "    </tr>\n",
       "    <tr>\n",
       "      <th>2</th>\n",
       "      <td>German coalition candidates want 40 percent cu...</td>\n",
       "      <td>BERLIN (Reuters) - German parties in explorato...</td>\n",
       "      <td>worldnews</td>\n",
       "      <td>October 26, 2017</td>\n",
       "      <td>0</td>\n",
       "      <td>[berlin, reuters, german, party, exploratory, ...</td>\n",
       "      <td>berlin reuters german party exploratory talk f...</td>\n",
       "    </tr>\n",
       "    <tr>\n",
       "      <th>3</th>\n",
       "      <td>SLICK SCAM: John Kerry Warns Global Warming Wi...</td>\n",
       "      <td>Sure, we need to save people from something th...</td>\n",
       "      <td>Government News</td>\n",
       "      <td>Oct 9, 2015</td>\n",
       "      <td>1</td>\n",
       "      <td>[sure, need, save, people, something, naturall...</td>\n",
       "      <td>sure need save people something naturally occu...</td>\n",
       "    </tr>\n",
       "    <tr>\n",
       "      <th>4</th>\n",
       "      <td>Guatemala top court sides with U.N. graft unit...</td>\n",
       "      <td>GUATEMALA CITY (Reuters) - Guatemala s top cou...</td>\n",
       "      <td>worldnews</td>\n",
       "      <td>August 29, 2017</td>\n",
       "      <td>0</td>\n",
       "      <td>[guatemala, city, reuters, guatemala, top, cou...</td>\n",
       "      <td>guatemala city reuters guatemala top court tue...</td>\n",
       "    </tr>\n",
       "  </tbody>\n",
       "</table>\n",
       "</div>"
      ],
      "text/plain": [
       "                                               title  \\\n",
       "0  Iran denies U.S. accusation of destabilizing t...   \n",
       "1  Despite flaws, paperless voting machines remai...   \n",
       "2  German coalition candidates want 40 percent cu...   \n",
       "3  SLICK SCAM: John Kerry Warns Global Warming Wi...   \n",
       "4  Guatemala top court sides with U.N. graft unit...   \n",
       "\n",
       "                                                text          subject  \\\n",
       "0  BEIRUT (Reuters) - Iran s foreign ministry den...        worldnews   \n",
       "1  WASHINGTON (Reuters) - One in four registered ...     politicsNews   \n",
       "2  BERLIN (Reuters) - German parties in explorato...        worldnews   \n",
       "3  Sure, we need to save people from something th...  Government News   \n",
       "4  GUATEMALA CITY (Reuters) - Guatemala s top cou...        worldnews   \n",
       "\n",
       "                  date  label  \\\n",
       "0    December 6, 2017       0   \n",
       "1  September 20, 2016       0   \n",
       "2    October 26, 2017       0   \n",
       "3          Oct 9, 2015      1   \n",
       "4     August 29, 2017       0   \n",
       "\n",
       "                                       text_tokenize  \\\n",
       "0  [beirut, reuters, iran, foreign, ministry, den...   \n",
       "1  [washington, reuters, one, four, registered, v...   \n",
       "2  [berlin, reuters, german, party, exploratory, ...   \n",
       "3  [sure, need, save, people, something, naturall...   \n",
       "4  [guatemala, city, reuters, guatemala, top, cou...   \n",
       "\n",
       "                                       text_cleanned  \n",
       "0  beirut reuters iran foreign ministry denied we...  \n",
       "1  washington reuters one four registered voter u...  \n",
       "2  berlin reuters german party exploratory talk f...  \n",
       "3  sure need save people something naturally occu...  \n",
       "4  guatemala city reuters guatemala top court tue...  "
      ]
     },
     "execution_count": 8,
     "metadata": {},
     "output_type": "execute_result"
    }
   ],
   "source": [
    "stop = stopwords.words('english')\n",
    "text_tokenize, text_cleanned = [], []\n",
    "for i, text in enumerate(df['text']):\n",
    "    new_text = re.sub('[^a-zA-Z]+',' ', text)\n",
    "    new_text = new_text.lower()\n",
    "    new_text = [word for word in new_text.split(sep=' ') if not word in stop]\n",
    "    new_text = [Word(word).lemmatize() for word in new_text]\n",
    "    text_tokenize.append(new_text)\n",
    "    text_cleanned.append(\" \".join(new_text))\n",
    "    \n",
    "df['text_tokenize'] = text_tokenize\n",
    "df['text_cleanned'] = text_cleanned\n",
    "df.head(5)"
   ]
  },
  {
   "cell_type": "code",
   "execution_count": 9,
   "metadata": {},
   "outputs": [],
   "source": [
    "# Guardamos csv para ahorrar tiempo\n",
    "df.to_csv(\"preprocessed_db.csv\")"
   ]
  },
  {
   "cell_type": "markdown",
   "metadata": {},
   "source": [
    "# Train / Validation / Test set\n",
    "\n",
    "Con el objetivo de crear embeddings sin traspaso de informacion, separaremos el dataset en 3, creando sets de datos para entrenar, validar y testear nuestros clasificadores.\n",
    "\n",
    "Lo que haremos será entrenar los embeddings con el de Train, para luego generar los embeddings del test. Reservaremos el 20% de los datos para testear nuestros modelos."
   ]
  },
  {
   "cell_type": "code",
   "execution_count": 10,
   "metadata": {},
   "outputs": [],
   "source": [
    "preprocessed_db = pd.read_csv('preprocessed_db.csv')\n",
    "\n",
    "train_df, test_df = train_test_split(preprocessed_db, test_size=0.2)\n",
    "\n",
    "train_df.to_csv(\"preprocessed_train_db.csv\")\n",
    "test_df.to_csv(\"preprocessed_test_db.csv\")"
   ]
  },
  {
   "cell_type": "markdown",
   "metadata": {},
   "source": [
    "## AC01: Histograma\n",
    "\n",
    "Haga un análisis de las palabras más utilizadas en el dataset. En particular, construya un histograma de frecuencia, en el cual el eje X contenga las palabras ordenadas según valores decrecientes de frecuencia. Comente acerca de la forma de este histograma.\n"
   ]
  },
  {
   "cell_type": "code",
   "execution_count": 11,
   "metadata": {},
   "outputs": [],
   "source": [
    "words = {}\n",
    "for row in df['text_tokenize']:\n",
    "    for w in row:\n",
    "        if not w in words:\n",
    "            words[w] = 1\n",
    "        else:\n",
    "            words[w] += 1\n",
    "words = sorted(words.items(), key= operator.itemgetter(1), reverse=True)\n",
    "\n",
    "keys, values = [], []\n",
    "all_art = []\n",
    "for k, v in words:\n",
    "    if v >= 8000:\n",
    "        keys.append(k)\n",
    "        values.append(v)\n",
    "\n",
    "for row in df['text_tokenize']:\n",
    "    article = []\n",
    "    for wrd in row:\n",
    "        if wrd in keys:\n",
    "            article.append(wrd)\n",
    "    all_art.append(' '.join(article))\n"
   ]
  },
  {
   "cell_type": "code",
   "execution_count": 12,
   "metadata": {},
   "outputs": [
    {
     "data": {
      "image/png": "[encoded data removed]",
      "text/plain": [
       "<Figure size 1728x576 with 1 Axes>"
      ]
     },
     "metadata": {
      "needs_background": "light"
     },
     "output_type": "display_data"
    }
   ],
   "source": [
    "# Histograma de todas las palabras\n",
    "plt.figure(figsize=[24,8])\n",
    "plt.bar(keys, values, align='edge')\n",
    "plt.xlabel('Palabra', size=25)\n",
    "plt.ylabel('Frecuencia', size=25)\n",
    "plt.setp(plt.gca().get_xticklabels(), rotation=90, horizontalalignment='right')\n",
    "plt.savefig(\"histogram_matplotlib_descending_order_Python.png\")\n",
    "plt.show()"
   ]
  },
  {
   "cell_type": "code",
   "execution_count": 13,
   "metadata": {},
   "outputs": [
    {
     "data": {
      "image/png": "[encoded data removed]",
      "text/plain": [
       "<Figure size 2160x576 with 1 Axes>"
      ]
     },
     "metadata": {
      "needs_background": "light"
     },
     "output_type": "display_data"
    }
   ],
   "source": [
    "# Para apreciar mejor el contenido, mostramos top 30 overall de todas las palabras\n",
    "\n",
    "plt.figure(figsize=[30,8])\n",
    "plt.bar(keys[:30], values[:30], align='edge')\n",
    "plt.xlabel('Palabra', size=25)\n",
    "plt.ylabel('Frecuencia', size=25)\n",
    "plt.setp(plt.gca().get_xticklabels(), rotation=90, horizontalalignment='right')\n",
    "plt.savefig(\"histogram_matplotlib_descending_order_Python.png\")\n",
    "plt.show()"
   ]
  },
  {
   "cell_type": "markdown",
   "metadata": {},
   "source": [
    "## Solo por curiosidad, veremos si es similar cuando filtramos el top 30 verdaderas/falsas\n",
    "## Veamos el histograma de noticias verdaderas"
   ]
  },
  {
   "cell_type": "code",
   "execution_count": 14,
   "metadata": {},
   "outputs": [
    {
     "data": {
      "image/png": "[encoded data removed]",
      "text/plain": [
       "<Figure size 1728x576 with 1 Axes>"
      ]
     },
     "metadata": {
      "needs_background": "light"
     },
     "output_type": "display_data"
    }
   ],
   "source": [
    "true_news = df.loc[df['label'] == 1]\n",
    "true_news.head()\n",
    "\n",
    "true_words = {}\n",
    "for row in true_news['text_tokenize']:\n",
    "    for w in row:\n",
    "        if not w in true_words:\n",
    "            true_words[w] = 1\n",
    "        else:\n",
    "            true_words[w] += 1\n",
    "true_words = sorted(true_words.items(), key= operator.itemgetter(1), reverse=True)\n",
    "\n",
    "\n",
    "true_keys, true_values = [], []\n",
    "true_all_art = []\n",
    "for k, v in true_words:\n",
    "    if v >= 8000:\n",
    "        true_keys.append(k)\n",
    "        true_values.append(v)\n",
    "\n",
    "for row in true_news['text_tokenize']:\n",
    "    article = []\n",
    "    for wrd in row:\n",
    "        if wrd in keys:\n",
    "            article.append(wrd)\n",
    "    true_all_art.append(' '.join(article))\n",
    "\n",
    "\n",
    "# Palabras Verdaderas\n",
    "plt.figure(figsize=[24,8])\n",
    "plt.bar(true_keys[:30], true_values[:30], align='edge')\n",
    "plt.xlabel('Palabra', size=25)\n",
    "plt.ylabel('Frecuencia', size=25)\n",
    "plt.setp(plt.gca().get_xticklabels(), rotation=90, horizontalalignment='right')\n",
    "plt.savefig(\"true_histogram_matplotlib_descending_order_Python.png\")\n",
    "plt.show()"
   ]
  },
  {
   "cell_type": "markdown",
   "metadata": {},
   "source": [
    "## Ahora el top 30 falsas"
   ]
  },
  {
   "cell_type": "code",
   "execution_count": 15,
   "metadata": {},
   "outputs": [
    {
     "data": {
      "image/png": "[encoded data removed]",
      "text/plain": [
       "<Figure size 1728x576 with 1 Axes>"
      ]
     },
     "metadata": {
      "needs_background": "light"
     },
     "output_type": "display_data"
    }
   ],
   "source": [
    "false_news = df.loc[df['label'] == 0]\n",
    "false_words = {}\n",
    "for row in false_news['text_tokenize']:\n",
    "    for w in row:\n",
    "        if not w in false_words:\n",
    "            false_words[w] = 1\n",
    "        else:\n",
    "            false_words[w] += 1\n",
    "\n",
    "false_words = sorted(false_words.items(), key= operator.itemgetter(1), reverse=True)\n",
    "\n",
    "false_keys, false_values = [], []\n",
    "false_all_art = []\n",
    "for k, v in false_words:\n",
    "    if v >= 8000:\n",
    "        false_keys.append(k)\n",
    "        false_values.append(v)\n",
    "\n",
    "for row in false_news['text_tokenize']:\n",
    "    article = []\n",
    "    for wrd in row:\n",
    "        if wrd in keys:\n",
    "            article.append(wrd)\n",
    "    false_all_art.append(' '.join(article))\n",
    "\n",
    "\n",
    "# Palabras Verdaderas\n",
    "plt.figure(figsize=[24,8])\n",
    "plt.bar(false_keys[:30], false_values[:30], align='edge')\n",
    "plt.xlabel('Palabra', size=25)\n",
    "plt.ylabel('Frecuencia', size=25)\n",
    "plt.setp(plt.gca().get_xticklabels(), rotation=90, horizontalalignment='right')\n",
    "plt.savefig(\"false_histogram_matplotlib_descending_order_Python.png\")\n",
    "plt.show()\n"
   ]
  },
  {
   "cell_type": "markdown",
   "metadata": {},
   "source": [
    "**Podemos apreciar que existe traslape entre el top 30 verdadero, falso y overall, con ciertas diferencias en frecuencia cuando filtramos por veracidad. Los valores maximos se mantienen, pero el intermedio cambia según el valor de la noticia.**\n",
    "\n",
    "**Es curioso que en el histograma de noticias falsas, 'said' tenga más ocurrencias que 'trump', que suele ser la mayor palabra en todo el dataset.**"
   ]
  },
  {
   "cell_type": "code",
   "execution_count": 16,
   "metadata": {},
   "outputs": [
    {
     "data": {
      "image/png": "[encoded data removed]",
      "text/plain": [
       "<Figure size 1080x432 with 1 Axes>"
      ]
     },
     "metadata": {
      "needs_background": "light"
     },
     "output_type": "display_data"
    }
   ],
   "source": [
    "# bonus track entretenido que encontre en https://medium.com/@Genyunus/detecting-fake-news-with-nlp-c893ec31dee8\n",
    "# lo encontre mas util que el histograma asi que lo agregue\n",
    "\n",
    "all_words = []\n",
    "for text in keys:\n",
    "    all_words.append(text.split())\n",
    "    \n",
    "words = [j for i in all_words for j in i]\n",
    "fdist = FreqDist(words)\n",
    "# print(fdist.most_common(20))\n",
    "\n",
    "plt.figure(figsize=(15,6))\n",
    "wordcloud = WordCloud().generate_from_frequencies(fdist)\n",
    "plt.imshow(wordcloud)\n",
    "plt.axis(\"off\")\n",
    "plt.show()"
   ]
  },
  {
   "cell_type": "markdown",
   "metadata": {},
   "source": [
    "# AC02: Explicación procesamiento y proyección a feature space numérico\n"
   ]
  },
  {
   "cell_type": "markdown",
   "metadata": {},
   "source": [
    "Los pasos que hemos seguido para preprocesar los datos:\n",
    "\n",
    "- Leer CSVs\n",
    "- Eliminar nulos\n",
    "- Taggear según Noticia Verdadera o Falsa\n",
    "- Filtrar Stopwords y ruido como caracteres no alfabeticos\n",
    "- Pasar a minuscula\n",
    "\n",
    "\n",
    "Vemos que la mayoria de las palabras tienen relacion con politica estadounidense, debido a que vemos palabras como 'trump', 'washington, 'republican', 'government', entre otras. Eso nos hace preguntarnos si nuestro procesamiento y embedding servirá para noticias de otra índole, o causará problemas.\n",
    "\n",
    "Vemos también que existe una muy alta frecuencia de ciertas palabras, mientras que el resto tiene una comparativamente más pequeña. Esto podría crear overfitting y podreia afectar nuestra predicción al contener un sesgo importante entre la relación de esas palabras con su valor 'label'.\n",
    "\n",
    "Lo que realizaremos ahora será pasar de texto a un feature space númerico, utilizando las técnicas Bag of Words, Word2Vec y Bert.\n",
    "\n",
    "\n",
    "- **Bert**\n",
    "\n",
    "BERT: Bidirectional Encoder Representations from Transformers, un modelo de aprendizaje de características en texto (feature learning) basado en técnicas de aprendizaje profundo.\n",
    "\n",
    "- **Bag of Words**\n",
    "\n",
    "Se construye un array de frecuencias de las distintas palabras de cada texto que se desea codificar. Los vectores serán la frecuencia con que aparece cada palabra. Para lograr esto, previamente debemos obtener todas las palabras distintas que aparecen en el set de entrenamiento. Luego, el vector de características tendrá dimensión igual a la cantidad de palabras distintas en el set de entrenamiento. Esto quiere decir que al aplicar la transformación a vectores de las frases, si una palabra del set de validación o set de test no aparece en el set de entrenamiento, entonces esa palabra será información perdida.\n",
    "\n",
    "CountVectorizer de sklearn nos retorna una sparse matrix al transformar una frase, una representación de las palabras que contiene dicha frase en una estructura que tiene una gran cantidad de ceros. Por esto, se puede ver representada por varias tuplas (pares) que indican la dirección en el vocabulario del CountVectorizer (obtenido desde el set de entrenamiento) y la cantidad de veces que se repite cada palabra de la frase original.\n",
    "\n",
    "\n",
    "- **Word2Vec**\n",
    "\n",
    "Transforma cada palabra de un texto a un vector de características, que en la práctica ha resultado ser muy informativo.\n",
    "\n",
    "En esta técnica tenemos ciertos parametros que podemos elegir.\n",
    "Algunos de estos son:\n",
    "\n",
    "   - **num_features**: dimensionalidad del vector de palabras.                     \n",
    "   - **min_word_count**: conteo minimo que debe tener una palabra.                        \n",
    "   - **num_workers**: threads que usaremos para correr en paralelo.\n",
    "   - **context**: tamanho de ventana de contexto.   \n",
    "   - **downsampling**: setting de downsample para palabras frecuentes.\n",
    "    \n",
    "Si bien nos guiamos por las recomendaciones del ayudante, jugamos un poco con estos parametros revisando si habian mejoras en nuestros modelos. Los valores fijados son lo mejor que obtuvimos sin tener un excesivo tiempo de cómputo.\n"
   ]
  },
  {
   "cell_type": "markdown",
   "metadata": {},
   "source": [
    "Ahora que ya preprocesamos nuestra BD, estamos listos para transformar estos textos a **feature space numérico**"
   ]
  },
  {
   "cell_type": "markdown",
   "metadata": {},
   "source": [
    "### Word2Vec"
   ]
  },
  {
   "cell_type": "code",
   "execution_count": 17,
   "metadata": {},
   "outputs": [],
   "source": [
    "# Defino los nucleos para el multiproceso\n",
    "# Generamos un embedding utilizando solo el set de train, pero obtuvimos\n",
    "# resultados por debajo de lo esperado (~50%), por lo que generamos el embedding con todo\n",
    "# el dataset, para luego generar el embedding del set de test.\n",
    "\n",
    "tokens = df['text_tokenize']\n",
    "cores = multiprocessing.cpu_count()\n",
    "w2v = Word2Vec(min_count=20, \n",
    "               window=2, \n",
    "               size=100, \n",
    "               sample=6e-5,\n",
    "               alpha=0.03, \n",
    "               min_alpha=0.0007, \n",
    "               negative=5, \n",
    "               workers=cores-1)\n",
    "\n",
    "# Creando el vocabulario\n",
    "w2v.build_vocab(list(tokens), progress_per=10000)\n",
    "\n",
    "# Train\n",
    "w2v.train(list(tokens), \n",
    "          total_examples=w2v.corpus_count, \n",
    "          epochs=50, \n",
    "          report_delay=1)\n",
    "\n",
    "\n",
    "# Embedding Train\n",
    "all_embd = []\n",
    "for k, text in enumerate(tokens):\n",
    "    embedding = []\n",
    "    for w in text:\n",
    "        try:\n",
    "            embedding.append(w2v.wv[w])\n",
    "        except KeyError as error:\n",
    "            pass\n",
    "            # print(error, 'Deprecada')\n",
    "    all_embd.append(embedding)\n",
    "    \n",
    "df['embedding'] = all_embd"
   ]
  },
  {
   "cell_type": "code",
   "execution_count": 18,
   "metadata": {},
   "outputs": [],
   "source": [
    "# train_df.head(5)"
   ]
  },
  {
   "cell_type": "code",
   "execution_count": 19,
   "metadata": {},
   "outputs": [],
   "source": [
    "# normalizar\n",
    "\n",
    "large = []\n",
    "for i,a in enumerate(df['embedding']):\n",
    "    large.append(np.sum(a,axis=0))\n",
    "\n",
    "    \n",
    "X_w2v_per_feat = normalize(large, axis=0)\n",
    "X_w2v_per_obs = normalize(large, axis=1)"
   ]
  },
  {
   "cell_type": "code",
   "execution_count": 20,
   "metadata": {},
   "outputs": [
    {
     "data": {
      "text/plain": [
       "array([[ 3.02505978e-03, -8.39755270e-04,  2.06515236e-03, ...,\n",
       "         2.52841569e-03, -8.23943594e-05,  2.48970132e-04],\n",
       "       [ 1.06535904e-03,  3.00563671e-03, -4.94180244e-03, ...,\n",
       "        -8.33825543e-03, -9.05156753e-03, -9.01028328e-03],\n",
       "       [-1.16394194e-03, -2.13967471e-03, -5.41593622e-04, ...,\n",
       "         6.91121460e-04, -1.25231834e-03, -1.07162442e-03],\n",
       "       ...,\n",
       "       [-9.87948728e-04, -1.69175974e-03,  5.57387077e-03, ...,\n",
       "         1.60859266e-03,  1.98581938e-03,  8.39051359e-03],\n",
       "       [-9.30370715e-04, -7.30126373e-04, -1.81651812e-03, ...,\n",
       "        -7.39436654e-03, -7.63180387e-03,  1.20900782e-02],\n",
       "       [-2.81682103e-04,  8.39482910e-04,  1.67933571e-04, ...,\n",
       "        -2.30658354e-04,  4.09914184e-04, -1.31394554e-03]])"
      ]
     },
     "execution_count": 20,
     "metadata": {},
     "output_type": "execute_result"
    }
   ],
   "source": [
    "X_w2v_per_feat"
   ]
  },
  {
   "cell_type": "code",
   "execution_count": 21,
   "metadata": {},
   "outputs": [
    {
     "data": {
      "text/plain": [
       "array([[ 0.10716626, -0.03212991,  0.06285664, ...,  0.0809201 ,\n",
       "        -0.00313425,  0.00841947],\n",
       "       [ 0.01208623,  0.0368268 , -0.04816762, ..., -0.08545823,\n",
       "        -0.11026307, -0.09757685],\n",
       "       [-0.06913522, -0.1372614 , -0.02763863, ...,  0.03708568,\n",
       "        -0.07987194, -0.06076089],\n",
       "       ...,\n",
       "       [-0.02887116, -0.05339507,  0.13994639, ...,  0.0424678 ,\n",
       "         0.06231334,  0.23406252],\n",
       "       [-0.01182643, -0.01002371, -0.01983866, ..., -0.08491461,\n",
       "        -0.10416846,  0.14670341],\n",
       "       [-0.01877788,  0.06044102,  0.00961833, ..., -0.01389122,\n",
       "         0.02934213, -0.08361383]])"
      ]
     },
     "execution_count": 21,
     "metadata": {},
     "output_type": "execute_result"
    }
   ],
   "source": [
    "X_w2v_per_obs"
   ]
  },
  {
   "cell_type": "code",
   "execution_count": null,
   "metadata": {},
   "outputs": [],
   "source": [
    "warnings.filterwarnings(\"ignore\")\n",
    "stop = stopwords.words('english')\n",
    "text_tokenize_test, text_cleanned_test = [], []\n",
    "for i, text in enumerate(test_df['text']):\n",
    "    new_text = re.sub('[^a-zA-Z]+',' ', text)\n",
    "    new_text = new_text.lower()\n",
    "    new_text = [word for word in new_text.split(sep=' ') if not word in stop]\n",
    "    new_text = [Word(word).lemmatize() for word in new_text]\n",
    "    text_tokenize_test.append(new_text)\n",
    "    text_cleanned_test.append(\" \".join(new_text))\n",
    "    \n",
    "test_df['text_tokenize'] = text_tokenize_test\n",
    "test_df['text_cleanned'] = text_cleanned_test"
   ]
  },
  {
   "cell_type": "code",
   "execution_count": null,
   "metadata": {},
   "outputs": [],
   "source": [
    "# Embedding set de Test\n",
    "warnings.filterwarnings(\"ignore\")\n",
    "all_embd_test = []\n",
    "for k, text in enumerate(test_df['text_tokenize']):\n",
    "    embedding = []\n",
    "    for w in text:\n",
    "        try:\n",
    "            embedding.append(w2v.wv[w])\n",
    "        except KeyError as error:\n",
    "            pass\n",
    "            # print(error, 'Deprecada')\n",
    "    all_embd_test.append(embedding)\n",
    "    \n",
    "test_df['embedding'] = all_embd_test"
   ]
  },
  {
   "cell_type": "code",
   "execution_count": 26,
   "metadata": {},
   "outputs": [],
   "source": [
    "# normalizacion embbeding set test\n",
    "\n",
    "large_test =[]\n",
    "for i,a in enumerate(test_df['embedding']):\n",
    "    large_test.append(np.sum(a,axis=0))\n",
    "\n",
    "X_w2v_per_feat_test = normalize(large_test, axis=0)\n",
    "X_w2v_per_obs_test = normalize(large_test, axis=1)"
   ]
  },
  {
   "cell_type": "code",
   "execution_count": 27,
   "metadata": {},
   "outputs": [
    {
     "data": {
      "text/plain": [
       "array([[ 0.0040263 , -0.00019709, -0.00483146, ..., -0.00231701,\n",
       "         0.00118441, -0.00414834],\n",
       "       [ 0.00391841, -0.01513997,  0.00726939, ...,  0.00396705,\n",
       "         0.00267255,  0.02304733],\n",
       "       [ 0.00055145, -0.00043085,  0.00093437, ..., -0.00186528,\n",
       "         0.00068737, -0.00060218],\n",
       "       ...,\n",
       "       [ 0.00723417, -0.00145444,  0.00461174, ...,  0.00013215,\n",
       "         0.00498048,  0.01878358],\n",
       "       [ 0.00041976, -0.00108537,  0.00164323, ..., -0.00246267,\n",
       "         0.00144629, -0.00071255],\n",
       "       [ 0.00205061,  0.00275613,  0.00254314, ..., -0.00365265,\n",
       "        -0.00793187, -0.01134227]])"
      ]
     },
     "execution_count": 27,
     "metadata": {},
     "output_type": "execute_result"
    }
   ],
   "source": [
    "X_w2v_per_feat_test"
   ]
  },
  {
   "cell_type": "code",
   "execution_count": 28,
   "metadata": {},
   "outputs": [
    {
     "data": {
      "text/plain": [
       "array([[ 0.05026523, -0.00286299, -0.05371426, ..., -0.02944737,\n",
       "         0.01790998, -0.05364469],\n",
       "       [ 0.03167649, -0.14241292,  0.05233297, ...,  0.03264765,\n",
       "         0.02616897,  0.19299189],\n",
       "       [ 0.02172748, -0.01975275,  0.03278467, ..., -0.07481783,\n",
       "         0.03280396, -0.02457666],\n",
       "       ...,\n",
       "       [ 0.08275301, -0.01935923,  0.04697968, ...,  0.00153894,\n",
       "         0.06900804,  0.22256904],\n",
       "       [ 0.01541679, -0.04638372,  0.05374479, ..., -0.09207719,\n",
       "         0.06433932, -0.02710801],\n",
       "       [ 0.03168766,  0.04955693,  0.03499679, ..., -0.05746084,\n",
       "        -0.14846226, -0.18155098]])"
      ]
     },
     "execution_count": 28,
     "metadata": {},
     "output_type": "execute_result"
    }
   ],
   "source": [
    "X_w2v_per_obs_test"
   ]
  },
  {
   "cell_type": "markdown",
   "metadata": {},
   "source": [
    "### Bag of Words"
   ]
  },
  {
   "cell_type": "code",
   "execution_count": 29,
   "metadata": {},
   "outputs": [
    {
     "data": {
      "text/plain": [
       "(44898, 179)"
      ]
     },
     "execution_count": 29,
     "metadata": {},
     "output_type": "execute_result"
    }
   ],
   "source": [
    "vectorizer = CountVectorizer(ngram_range=(1,1))\n",
    "x_bow_fit = vectorizer.fit(all_art)\n",
    "bow_emb = vectorizer.transform(all_art)\n",
    "bow_emb.toarray().shape"
   ]
  },
  {
   "cell_type": "code",
   "execution_count": 30,
   "metadata": {},
   "outputs": [],
   "source": [
    "# Reduccion dim\n",
    "clf = TruncatedSVD(100)\n",
    "bow_emb_100 = clf.fit_transform(bow_emb)"
   ]
  },
  {
   "cell_type": "code",
   "execution_count": 31,
   "metadata": {},
   "outputs": [
    {
     "data": {
      "text/plain": [
       "array([[ 3.86836716e+00,  1.58113292e+00, -7.27164710e-01, ...,\n",
       "         5.12108668e-03,  2.99563777e-01,  7.56980204e-02],\n",
       "       [ 1.27326688e+01,  7.35264150e+00,  1.23543664e-01, ...,\n",
       "         4.85697810e-01,  6.37487626e-01, -1.46238809e-01],\n",
       "       [ 1.40432751e+00,  1.05642187e+00, -2.40585061e-01, ...,\n",
       "         1.23727565e-01,  8.18319959e-02,  4.79274826e-01],\n",
       "       ...,\n",
       "       [ 1.31865710e+01, -9.29461951e+00, -2.45711569e+00, ...,\n",
       "        -5.54635855e-01,  1.18970652e+00, -1.47033014e-01],\n",
       "       [ 1.50061903e+01,  9.53157821e+00,  2.74368035e+00, ...,\n",
       "         1.15007079e+00, -2.57121392e-01, -1.18438412e+00],\n",
       "       [ 1.34117647e+00,  1.08926833e+00, -6.70979678e-01, ...,\n",
       "        -2.62493549e-02, -1.78719999e-01,  3.59928103e-01]])"
      ]
     },
     "execution_count": 31,
     "metadata": {},
     "output_type": "execute_result"
    }
   ],
   "source": [
    "bow_emb_100"
   ]
  },
  {
   "cell_type": "markdown",
   "metadata": {},
   "source": [
    "### BERT"
   ]
  },
  {
   "cell_type": "markdown",
   "metadata": {},
   "source": [
    "Computamos los archivos entregados por ayudante."
   ]
  },
  {
   "cell_type": "code",
   "execution_count": 42,
   "metadata": {},
   "outputs": [
    {
     "data": {
      "text/plain": [
       "(43404, 768)"
      ]
     },
     "execution_count": 42,
     "metadata": {},
     "output_type": "execute_result"
    }
   ],
   "source": [
    "ft_bert = np.load('feat_bert3.npy')\n",
    "ft_bert.shape"
   ]
  },
  {
   "cell_type": "code",
   "execution_count": 43,
   "metadata": {},
   "outputs": [
    {
     "data": {
      "text/plain": [
       "(43404,)"
      ]
     },
     "execution_count": 43,
     "metadata": {},
     "output_type": "execute_result"
    }
   ],
   "source": [
    "labels_bert = np.load('labels3.npy')\n",
    "#labels\n",
    "labels_bert.shape"
   ]
  },
  {
   "cell_type": "markdown",
   "metadata": {},
   "source": [
    "# AC03: SVM\n",
    "\n"
   ]
  },
  {
   "cell_type": "markdown",
   "metadata": {},
   "source": [
    "Teniendo ya el embedding necesario, procederemos a implementar e utilizar los clasificadores SVM y Random Forest. Comenzaremos por SVM.\n",
    "\n",
    "La idea detras de SVM es que, dado un conjunto de puntos, subconjunto de un conjunto mayor (espacio), en el que cada uno de ellos pertenece a una de dos posibles categorías, un algoritmo basado en SVM construye un modelo capaz de predecir si un punto nuevo (cuya categoría desconocemos) pertenece a una categoría o a la otra.\n",
    "\n",
    "Como en la mayoría de los métodos de clasificación supervisada, los datos de entrada (los puntos) son vistos como un vector p-dimensional (una lista ordenada de p números)."
   ]
  },
  {
   "cell_type": "markdown",
   "metadata": {},
   "source": [
    "### SVM + Bag of Words"
   ]
  },
  {
   "cell_type": "code",
   "execution_count": 101,
   "metadata": {},
   "outputs": [],
   "source": [
    "# Dividiendo el dataset para usar BoW\n",
    "X_bow, X_test_bow, y_bow, y_test_bow = train_test_split(bow_emb_100, \n",
    "                                                        np.array(labels_), \n",
    "                                                        shuffle=False, \n",
    "                                                        test_size=0.2)\n",
    "\n",
    "# Generando el set de train y validacion\n",
    "X_train_bow, X_val_bow, y_train_bow, y_val_bow = train_test_split(X_bow, \n",
    "                                                                  y_bow, \n",
    "                                                                  shuffle=False, \n",
    "                                                                  test_size=0.2)"
   ]
  },
  {
   "cell_type": "code",
   "execution_count": 92,
   "metadata": {},
   "outputs": [
    {
     "name": "stdout",
     "output_type": "stream",
     "text": [
      "kernel: linear C: 100 accuracy: 98.02324772047052 %\n",
      "kernel: linear C: 10 accuracy: 98.05456949954757 %\n",
      "kernel: linear C: 1.0 accuracy: 98.04760910419712 %\n",
      "kernel: linear C: 0.5 accuracy: 98.01628732512006 %\n",
      "kernel: linear C: 0.1 accuracy: 98.02672791814575 %\n",
      "kernel: poly C: 100 accuracy: 98.18333681353101 %\n",
      "kernel: poly C: 10 accuracy: 96.16830235957401 %\n",
      "kernel: poly C: 1.0 accuracy: 91.76237210273544 %\n",
      "kernel: poly C: 0.5 accuracy: 88.92253079974942 %\n",
      "kernel: poly C: 0.1 accuracy: 83.14888285654625 %\n",
      "kernel: rbf C: 100 accuracy: 99.98607920929908 %\n",
      "kernel: rbf C: 10 accuracy: 99.91995545346975 %\n",
      "kernel: rbf C: 1.0 accuracy: 99.30396046495441 %\n",
      "kernel: rbf C: 0.5 accuracy: 98.99074267418389 %\n",
      "kernel: rbf C: 0.1 accuracy: 97.42117352265609 %\n"
     ]
    }
   ],
   "source": [
    "# Training set\n",
    "\n",
    "kernels = ['linear', 'poly', 'rbf']\n",
    "C = [100, 10, 1.0, 0.5, 0.1]\n",
    "\n",
    "for k in kernels:\n",
    "    for c in C:\n",
    "        svm = SVC(C=c, kernel=k, gamma=\"scale\")\n",
    "        svm.fit(X_train_bow, y_train_bow)\n",
    "        y_pred_val_bow = svm.predict(X_train_bow)\n",
    "        print('kernel:', k, 'C:',c,'accuracy:', (sum(y_pred_val_bow == y_train_bow)/len(y_pred_val_bow)*100), '%')"
   ]
  },
  {
   "cell_type": "code",
   "execution_count": 102,
   "metadata": {},
   "outputs": [
    {
     "name": "stdout",
     "output_type": "stream",
     "text": [
      "kernel: linear C: 10 accuracy: 97.96770601336303 %\n",
      "kernel: linear C: 1.0 accuracy: 97.93986636971047 %\n",
      "kernel: linear C: 0.5 accuracy: 97.93986636971047 %\n",
      "kernel: linear C: 0.1 accuracy: 97.9259465478842 %\n",
      "kernel: poly C: 10 accuracy: 94.61302895322939 %\n",
      "kernel: poly C: 1.0 accuracy: 90.74331848552339 %\n",
      "kernel: poly C: 0.5 accuracy: 88.0707126948775 %\n",
      "kernel: poly C: 0.1 accuracy: 82.40534521158129 %\n",
      "kernel: rbf C: 10 accuracy: 98.48273942093542 %\n",
      "kernel: rbf C: 1.0 accuracy: 98.10690423162583 %\n",
      "kernel: rbf C: 0.5 accuracy: 97.88418708240535 %\n",
      "kernel: rbf C: 0.1 accuracy: 96.39476614699332 %\n"
     ]
    }
   ],
   "source": [
    "# Validacion \n",
    "\n",
    "\n",
    "kernels = ['linear', 'poly', 'rbf']\n",
    "C = [10, 1.0, 0.5, 0.1]\n",
    "\n",
    "for k in kernels:\n",
    "    for c in C:\n",
    "        svm = SVC(C=c, kernel=k, gamma=\"scale\")\n",
    "        svm.fit(X_train_bow, y_train_bow)\n",
    "        y_pred_val_bow = svm.predict(X_val_bow)\n",
    "        print('kernel:', k, 'C:',c,'accuracy:', (sum(y_pred_val_bow == y_val_bow)/len(y_pred_val_bow)*100), '%')"
   ]
  },
  {
   "cell_type": "markdown",
   "metadata": {},
   "source": [
    "## SVM + W2V"
   ]
  },
  {
   "cell_type": "code",
   "execution_count": 103,
   "metadata": {},
   "outputs": [],
   "source": [
    "#SVM con Word2Vec con normalizacion por feature\n",
    "\n",
    "X_w2v, X_test_w2v, y_w2v, y_test_w2v = train_test_split(X_w2v_per_feat, \n",
    "                                                        labels_, \n",
    "                                                        shuffle=False, \n",
    "                                                        test_size=0.2)\n",
    "\n",
    "X_train_w2v, X_val_w2v, y_train_w2v, y_val_w2v = train_test_split(X_w2v, \n",
    "                                                                  y_w2v, \n",
    "                                                                  shuffle=False, \n",
    "                                                                  test_size=0.2)"
   ]
  },
  {
   "cell_type": "code",
   "execution_count": 104,
   "metadata": {},
   "outputs": [
    {
     "name": "stdout",
     "output_type": "stream",
     "text": [
      "kernel: linear C: 10 accuracy: 94.67877775457646 %\n",
      "kernel: linear C: 1.0 accuracy: 91.13593652119441 %\n",
      "kernel: linear C: 0.5 accuracy: 87.46084777615368 %\n",
      "kernel: linear C: 0.1 accuracy: 66.91376070160786 %\n",
      "kernel: poly C: 10 accuracy: 52.028955244657894 %\n",
      "kernel: poly C: 1.0 accuracy: 52.028955244657894 %\n",
      "kernel: poly C: 0.5 accuracy: 52.028955244657894 %\n",
      "kernel: poly C: 0.1 accuracy: 52.028955244657894 %\n",
      "kernel: rbf C: 10 accuracy: 95.67411428969166 %\n",
      "kernel: rbf C: 1.0 accuracy: 94.00013920790701 %\n",
      "kernel: rbf C: 0.5 accuracy: 93.20317394027981 %\n",
      "kernel: rbf C: 0.1 accuracy: 86.07224890373773 %\n"
     ]
    }
   ],
   "source": [
    "# Train \n",
    "\n",
    "kernels = ['linear', 'poly', 'rbf']\n",
    "C = [10, 1.0, 0.5, 0.1]\n",
    "\n",
    "for k in kernels:\n",
    "    for c in C:\n",
    "        svm = SVC(C=c, kernel=k, gamma=\"scale\")\n",
    "        svm.fit(X_train_w2v, y_train_w2v)\n",
    "        y_pred_val_w2v = svm.predict(X_val_w2v)\n",
    "        print('kernel:', k, 'C:',c,'accuracy:', (sum(y_pred_val_w2v == y_train_w2v)/len(y_pred_val_w2v)*100), '%')\n",
    "        "
   ]
  },
  {
   "cell_type": "code",
   "execution_count": 105,
   "metadata": {},
   "outputs": [
    {
     "name": "stdout",
     "output_type": "stream",
     "text": [
      "kernel: linear C: 10 accuracy: 94.67877775457646 %\n",
      "kernel: linear C: 1.0 accuracy: 91.13593652119441 %\n",
      "kernel: linear C: 0.5 accuracy: 87.46084777615368 %\n",
      "kernel: linear C: 0.1 accuracy: 66.91376070160786 %\n",
      "kernel: poly C: 10 accuracy: 52.028955244657894 %\n",
      "kernel: poly C: 1.0 accuracy: 52.028955244657894 %\n",
      "kernel: poly C: 0.5 accuracy: 52.028955244657894 %\n",
      "kernel: poly C: 0.1 accuracy: 52.028955244657894 %\n",
      "kernel: rbf C: 10 accuracy: 95.67411428969166 %\n",
      "kernel: rbf C: 1.0 accuracy: 94.00013920790701 %\n",
      "kernel: rbf C: 0.5 accuracy: 93.20317394027981 %\n",
      "kernel: rbf C: 0.1 accuracy: 86.07224890373773 %\n"
     ]
    }
   ],
   "source": [
    "# Validation\n",
    "\n",
    "kernels = ['linear', 'poly', 'rbf']\n",
    "C = [10, 1.0, 0.5, 0.1]\n",
    "\n",
    "for k in kernels:\n",
    "    for c in C:\n",
    "        svm = SVC(C=c, kernel=k, gamma=\"scale\")\n",
    "        svm.fit(X_train_w2v, y_train_w2v)\n",
    "        y_pred_val_w2v = svm.predict(X_train_w2v)\n",
    "        print('kernel:', k, 'C:',c,'accuracy:', (sum(y_pred_val_w2v == y_train_w2v)/len(y_pred_val_w2v)*100), '%')\n",
    "        "
   ]
  },
  {
   "cell_type": "code",
   "execution_count": 106,
   "metadata": {},
   "outputs": [],
   "source": [
    "#SVM con Word2Vec con normalizacion por observacion o texto\n",
    "\n",
    "X_w2v, X_test_w2v, y_w2v, y_test_w2v = train_test_split(X_w2v_per_obs, \n",
    "                                                        labels_, \n",
    "                                                        shuffle=False, \n",
    "                                                        test_size=0.2)\n",
    "\n",
    "X_train_w2v, X_val_w2v, y_train_w2v, y_val_w2v = train_test_split(X_w2v, \n",
    "                                                                  y_w2v, \n",
    "                                                                  shuffle=False, \n",
    "                                                                  test_size=0.2)"
   ]
  },
  {
   "cell_type": "code",
   "execution_count": 107,
   "metadata": {},
   "outputs": [
    {
     "name": "stdout",
     "output_type": "stream",
     "text": [
      "kernel: linear C: 10 accuracy: 96.3771142200877 %\n",
      "kernel: linear C: 1.0 accuracy: 96.37015382473724 %\n",
      "kernel: linear C: 0.5 accuracy: 96.37015382473724 %\n",
      "kernel: linear C: 0.1 accuracy: 96.05693603396674 %\n",
      "kernel: poly C: 10 accuracy: 94.13586691724089 %\n",
      "kernel: poly C: 1.0 accuracy: 90.85056031182572 %\n",
      "kernel: poly C: 0.5 accuracy: 87.08150622955384 %\n",
      "kernel: poly C: 0.1 accuracy: 52.028955244657894 %\n",
      "kernel: rbf C: 10 accuracy: 97.31328739472403 %\n",
      "kernel: rbf C: 1.0 accuracy: 96.42583698754089 %\n",
      "kernel: rbf C: 0.5 accuracy: 96.19614394097584 %\n",
      "kernel: rbf C: 0.1 accuracy: 95.30521333611749 %\n"
     ]
    }
   ],
   "source": [
    "# Train\n",
    "\n",
    "kernels = ['linear', 'poly', 'rbf']\n",
    "C = [10, 1.0, 0.5, 0.1]\n",
    "\n",
    "for k in kernels:\n",
    "    for c in C:\n",
    "        svm = SVC(C=c, kernel=k, gamma=\"scale\")\n",
    "        svm.fit(X_train_w2v, y_train_w2v)\n",
    "        y_pred_val_w2v = svm.predict(X_train_w2v)\n",
    "        print('kernel:', k, 'C:',c,'accuracy:', (sum(y_pred_val_w2v == y_train_w2v)/len(y_pred_val_w2v)*100), '%')\n",
    "        "
   ]
  },
  {
   "cell_type": "code",
   "execution_count": 108,
   "metadata": {},
   "outputs": [
    {
     "name": "stdout",
     "output_type": "stream",
     "text": [
      "kernel: linear C: 10 accuracy: 96.3390868596882 %\n",
      "kernel: linear C: 1.0 accuracy: 96.42260579064587 %\n",
      "kernel: linear C: 0.5 accuracy: 96.39476614699332 %\n",
      "kernel: linear C: 0.1 accuracy: 96.21380846325167 %\n",
      "kernel: poly C: 10 accuracy: 94.44599109131403 %\n",
      "kernel: poly C: 1.0 accuracy: 91.43930957683742 %\n",
      "kernel: poly C: 0.5 accuracy: 87.40256124721604 %\n",
      "kernel: poly C: 0.1 accuracy: 52.28285077951003 %\n",
      "kernel: rbf C: 10 accuracy: 96.96547884187082 %\n",
      "kernel: rbf C: 1.0 accuracy: 96.39476614699332 %\n",
      "kernel: rbf C: 0.5 accuracy: 96.25556792873051 %\n",
      "kernel: rbf C: 0.1 accuracy: 95.65701559020044 %\n"
     ]
    }
   ],
   "source": [
    "# Validation\n",
    "\n",
    "\n",
    "kernels = ['linear', 'poly', 'rbf']\n",
    "C = [10, 1.0, 0.5, 0.1]\n",
    "\n",
    "for k in kernels:\n",
    "    for c in C:\n",
    "        svm = SVC(C=c, kernel=k, gamma=\"scale\")\n",
    "        svm.fit(X_train_w2v, y_train_w2v)\n",
    "        y_pred_val_w2v = svm.predict(X_val_w2v)\n",
    "        print('kernel:', k, 'C:',c,'accuracy:', (sum(y_pred_val_w2v == y_val_w2v)/len(y_pred_val_w2v)*100), '%')\n",
    "        "
   ]
  },
  {
   "cell_type": "markdown",
   "metadata": {},
   "source": [
    "## SVM + BERT"
   ]
  },
  {
   "cell_type": "code",
   "execution_count": 46,
   "metadata": {},
   "outputs": [
    {
     "data": {
      "text/plain": [
       "array([[-0.11887352, -0.52489644, -0.93963856, ..., -0.7726385 ,\n",
       "        -0.3475276 , -0.10354795],\n",
       "       [-0.4680108 , -0.5591215 , -0.9686077 , ..., -0.74598026,\n",
       "        -0.60172594,  0.3425974 ],\n",
       "       [-0.6194068 , -0.64621276, -0.91207623, ..., -0.5501844 ,\n",
       "        -0.60456306,  0.27381653],\n",
       "       ...,\n",
       "       [-0.68827   , -0.66322875, -0.9742782 , ..., -0.799391  ,\n",
       "        -0.74067175,  0.2702311 ],\n",
       "       [-0.32522142, -0.59307283, -0.97849447, ..., -0.86737204,\n",
       "        -0.53682035, -0.33102667],\n",
       "       [-0.7650314 , -0.674678  , -0.9800001 , ..., -0.8735728 ,\n",
       "        -0.64572424,  0.2785621 ]], dtype=float32)"
      ]
     },
     "execution_count": 46,
     "metadata": {},
     "output_type": "execute_result"
    }
   ],
   "source": [
    "ft_bert"
   ]
  },
  {
   "cell_type": "code",
   "execution_count": 47,
   "metadata": {},
   "outputs": [
    {
     "data": {
      "text/plain": [
       "array([0, 1, 0, ..., 1, 1, 0])"
      ]
     },
     "execution_count": 47,
     "metadata": {},
     "output_type": "execute_result"
    }
   ],
   "source": [
    "labels_bert"
   ]
  },
  {
   "cell_type": "code",
   "execution_count": 113,
   "metadata": {},
   "outputs": [],
   "source": [
    "#SVM con Word2Vec con normalizacion por observacion o texto\n",
    "\n",
    "X_bert_obs, X_test_bert, y_bert_obs, y_test_bert = train_test_split(ft_bert, \n",
    "                                                                    labels_bert, \n",
    "                                                                    shuffle=False, \n",
    "                                                                    test_size=0.2)\n",
    "\n",
    "X_train_bert, X_val_bert, y_train_bert, y_val_bert = train_test_split(X_bert_obs, \n",
    "                                                                  y_bert_obs, \n",
    "                                                                  shuffle=False, \n",
    "                                                                  test_size=0.2)"
   ]
  },
  {
   "cell_type": "code",
   "execution_count": 93,
   "metadata": {},
   "outputs": [
    {
     "name": "stdout",
     "output_type": "stream",
     "text": [
      "kernel: linear C: 100 accuracy: 99.89920080639355 %\n",
      "kernel: linear C: 10 accuracy: 99.65440276477788 %\n",
      "kernel: linear C: 1.0 accuracy: 99.3376052991576 %\n",
      "kernel: linear C: 0.5 accuracy: 99.18280653754769 %\n",
      "kernel: linear C: 0.1 accuracy: 98.61401108791131 %\n",
      "kernel: poly C: 100 accuracy: 99.22960616315069 %\n",
      "kernel: poly C: 10 accuracy: 98.14241486068111 %\n",
      "kernel: poly C: 1.0 accuracy: 96.78882568939449 %\n",
      "kernel: poly C: 0.5 accuracy: 96.25962992296063 %\n",
      "kernel: poly C: 0.1 accuracy: 94.78364173086615 %\n",
      "kernel: rbf C: 100 accuracy: 99.32680538555691 %\n",
      "kernel: rbf C: 10 accuracy: 98.40881272949817 %\n",
      "kernel: rbf C: 1.0 accuracy: 97.23522211822305 %\n",
      "kernel: rbf C: 0.5 accuracy: 96.7672258621931 %\n",
      "kernel: rbf C: 0.1 accuracy: 95.68363453092375 %\n"
     ]
    }
   ],
   "source": [
    "# Training\n",
    "\n",
    "kernels = ['linear', 'poly', 'rbf']\n",
    "C = [100, 10, 1.0, 0.5, 0.1]\n",
    "for k in kernels:\n",
    "    for c in C:\n",
    "        svm = SVC(C=c, kernel=k, gamma=\"scale\")\n",
    "        svm.fit(X_train_bert, y_train_bert)\n",
    "        y_pred_val_bert = svm.predict(X_train_bert)\n",
    "        print('kernel:', k, 'C:',c,'accuracy:', (sum(y_pred_val_bert == y_train_bert)/len(y_pred_val_bert)*100), '%')\n",
    "        "
   ]
  },
  {
   "cell_type": "code",
   "execution_count": 110,
   "metadata": {},
   "outputs": [
    {
     "name": "stdout",
     "output_type": "stream",
     "text": [
      "kernel: linear C: 100 accuracy: 98.79049676025919 %\n",
      "kernel: linear C: 10 accuracy: 98.89128869690424 %\n",
      "kernel: linear C: 1.0 accuracy: 99.06407487401007 %\n",
      "kernel: linear C: 0.5 accuracy: 99.02087832973362 %\n",
      "kernel: linear C: 0.1 accuracy: 98.56011519078474 %\n",
      "kernel: poly C: 100 accuracy: 99.00647948164148 %\n",
      "kernel: poly C: 10 accuracy: 98.01295896328294 %\n",
      "kernel: poly C: 1.0 accuracy: 96.47228221742262 %\n",
      "kernel: poly C: 0.5 accuracy: 95.9251259899208 %\n",
      "kernel: poly C: 0.1 accuracy: 94.73002159827215 %\n",
      "kernel: rbf C: 100 accuracy: 99.06407487401007 %\n",
      "kernel: rbf C: 10 accuracy: 98.34413246940244 %\n",
      "kernel: rbf C: 1.0 accuracy: 97.10583153347733 %\n",
      "kernel: rbf C: 0.5 accuracy: 96.73146148308135 %\n",
      "kernel: rbf C: 0.1 accuracy: 95.63714902807774 %\n"
     ]
    }
   ],
   "source": [
    "# Validacion \n",
    "\n",
    "kernels = ['linear', 'poly', 'rbf']\n",
    "C = [100, 10, 1.0, 0.5, 0.1]\n",
    "\n",
    "for k in kernels:\n",
    "    for c in C:\n",
    "        svm = SVC(C=c, kernel=k, gamma=\"scale\")\n",
    "        svm.fit(X_train_bert, y_train_bert)\n",
    "        y_pred_val_bert = svm.predict(X_val_bert)\n",
    "        print('kernel:', k, 'C:',c,'accuracy:', (sum(y_pred_val_bert == y_val_bert)/len(y_pred_val_bert)*100), '%')\n",
    "        "
   ]
  },
  {
   "cell_type": "markdown",
   "metadata": {},
   "source": [
    "\n",
    "- **¿Qué significa el parámetro C?**\n",
    "\n",
    "$C$ **es la constante de penalizacion asociada a las variables slack**. Mientras mayor es $C$, menor es la susceptibilidad a clases mal clasificadas.\n",
    "Controla el trade off entre la decisión de un limite \"smooth\" y clasificar puntos de entrenamiento correctamente. Como ya mencionabamos, un C alto significará que tendremos una penalización alta a los errores de clasificación (Low bias, high variance)\n",
    "\n",
    "- **¿Cómo afectan estos cambios al rendimiento del clasificador en el conjunto de entrenamiento y validación?**\n",
    "\n",
    "RBF: Radial Basis Function kernel. Este transformador/procesador genera nuevas features al medir la distancia entre todos los otros puntos a un/unos puntos epicentro. Por ejemplo, puede usar un centro radial gaussiano.\n",
    "\n",
    "\n",
    "Poly: Polynomial Kernel. Transforma/procesa para generar nuevas features al aplicar combinacion polinomial a todas las existentes.\n",
    "\n",
    "Linear: Se utiliza cuando la data es linearmente separable en el hiperplano por una linea recta, Se utiliza normalmente cuando hay un gran numero de features. Suele ser mas rapido que los otros.\n"
   ]
  },
  {
   "cell_type": "markdown",
   "metadata": {},
   "source": [
    "**Presentación de resultados en tablas**. Como hice muchos experimentos, he truncado los valores que eran iguales. Es decir, si el numero de \"C\" no incidia en más de un 0.1% de ganancia de accuray, dejamos de reportar para los C's siguientes. Esto no ocurría mucho, generalmente solo en el salto de 10 a 100 Cs. Ademas, en SVM calculamos tanto normalizado por feature y por observación, pero presentamos solo el que obtuvo maximos (por observación)\n",
    "\n",
    "\n",
    "## BoW\n",
    "\n",
    "- Training set\n",
    "\n",
    "C | linear | poly | rbf\n",
    "--- | --- | --- | ---\n",
    "0.1 | 98.02  | 83.14 | 97.42\n",
    "0.5 | 98.01  | 88.92 | 98.99\n",
    "1 | 98.04 | 91.76 | 99.30\n",
    "10 | 98.05 | 96.16 | 99.91\n",
    "100 | 98.02 | 98.18 | 99.98\n",
    "\n",
    "\n",
    "- Validation set\n",
    "\n",
    "C | linear | poly | rbf\n",
    "--- | --- | --- | ---\n",
    "0.1 | 97.92  | 82.40 | 96.39\n",
    "0.5 | 97.93  | 88.07 | 97.88\n",
    "1 | 97.93 | 90.74 | 98.10\n",
    "10 | 97.96 | 94.61 | 98.48\n",
    "\n",
    "\n",
    "## W2V + Normalizacion por feature\n",
    "\n",
    "- Se omite tabla ya que los maximos fueron via Observacion. Se presentan los resultados más arriba. \n",
    "\n",
    "## W2V + Normalizacion por Obs\n",
    "\n",
    "- Training set\n",
    "\n",
    "C | linear | poly | rbf\n",
    "--- | --- | --- | ---\n",
    "0.1 | 96.05  | 52.02 | 96.19\n",
    "0.5 | 96.37  | 87.08 | 96.19\n",
    "1 | 96.37 | 90.85 | 96.42\n",
    "10 | 96.37 | 94.13 | 97.31\n",
    "\n",
    "\n",
    "- Validation set\n",
    "\n",
    "C | linear | poly | rbf\n",
    "--- | --- | --- | ---\n",
    "0.1 | 96.21  | 52.28 | 95.65\n",
    "0.5 | 96.39  | 87.40 | 96.25\n",
    "1 | 96.42 | 91.43 | 96.39\n",
    "10 | 96.33 |  94.44 | 96.96\n",
    "\n",
    "## BERT\n",
    "\n",
    "- Training set\n",
    "\n",
    "C | linear | poly | rbf\n",
    "--- | --- | --- | ---\n",
    "0.1 |  98.61  | 94.78 | 95.06\n",
    "0.5 | 99.18  | 96.25 | 96.76\n",
    "1 | 99.33 | 96.78 | 97.23\n",
    "10 | 99.65 | 98.14 | 98.40\n",
    "100 | 99.89 | 99.22 | 99.32\n",
    "\n",
    "\n",
    "- Validation set\n",
    "\n",
    "C | linear | poly | rbf\n",
    "--- | --- | --- | ---\n",
    "0.1 | 98.56  | 94.73 | 95.36\n",
    "0.5 | 99.02  | 95.92 | 96.73\n",
    "1 | 99.0 | 96.47 | 97.10\n",
    "10 |  98.89 | 98.01 | 98.34\n",
    "100 | 98.79 | 99.00 | 99.06\n",
    "\n"
   ]
  },
  {
   "cell_type": "markdown",
   "metadata": {},
   "source": [
    "- **¿Mejor rendimiento en los conjuntos de train?** \n",
    "\n",
    "Los mejores resultados fueron presentados por BERT y BoW.\n",
    "\n",
    "- **¿Mejor rendimiento en los conjuntos de validación?** \n",
    "\n",
    "Aquí BERT se impuso fuertemente frente a los otros.\n",
    "\n",
    "\n",
    "\n",
    "Vemos como el factor C es muy importante en los resultados que tenemos. \n",
    "En el kernel lineal vemos que la accuracy suele crecer en conjunto a C, pero también notamos algo interesante: existe un tope. Una vez que el C sigue creciendo, el accuracy baja. Esto se podría deber a que estamos viendo un overfit.\n",
    "\n",
    "El kernel polinomial presenta los peores rendimientos en general, a pesar de variar su C. La razón de esto es, probablemente, debida a la naturaleza y mezcla de datos.\n",
    "\n",
    "RDF suele crecer junto a C, presentando grandes saltos una vez que llegamos a un C óptimo. Esto nos hace pensar que RDF es mas sensible al valor de la penalización de clases que los otros tipos.\n",
    "\n"
   ]
  },
  {
   "cell_type": "markdown",
   "metadata": {},
   "source": [
    "## AC04: Mejor SVM ?\n"
   ]
  },
  {
   "cell_type": "markdown",
   "metadata": {},
   "source": [
    "Como podemos ver en las tablas, **SVM + Bert** presentó los mejores resultados, comparando según rendimientos de set de validacion. Es por esto que elegiremos esta combinación, con los hiperparametros que resultaron más eficientes, para probar nuestro set de test."
   ]
  },
  {
   "cell_type": "code",
   "execution_count": 124,
   "metadata": {},
   "outputs": [
    {
     "data": {
      "text/plain": [
       "0.9897477249164843"
      ]
     },
     "execution_count": 124,
     "metadata": {},
     "output_type": "execute_result"
    }
   ],
   "source": [
    "# Test set separado al principio\n",
    "\n",
    "svm = SVC(C=0.5, kernel='linear', gamma=\"scale\")\n",
    "svm.fit(X_train_bert, y_train_bert)\n",
    "y_pred_test_bert = svm.predict(X_test_bert)\n",
    "accuracy_score(y_test_bert, y_pred_test_bert)\n",
    "        "
   ]
  },
  {
   "cell_type": "code",
   "execution_count": 125,
   "metadata": {},
   "outputs": [
    {
     "data": {
      "text/plain": [
       "array([[4238,   33],\n",
       "       [  56, 4354]])"
      ]
     },
     "execution_count": 125,
     "metadata": {},
     "output_type": "execute_result"
    }
   ],
   "source": [
    "confusion_matrix(y_test_bert, y_pred_test_bert)"
   ]
  },
  {
   "cell_type": "code",
   "execution_count": 134,
   "metadata": {},
   "outputs": [
    {
     "name": "stdout",
     "output_type": "stream",
     "text": [
      "La noticia: \n",
      " Convicted Felon With A Gun Has Knee-Jerk Reaction That Kills His Own Daughter\n",
      "Tenia un valor real de\n",
      "0\n",
      "Y fue predicha como\n",
      "1\n",
      "\n",
      "\n",
      "La noticia: \n",
      " 38% Of Trump Supporters Wish South Had Won Civil War And Other Disgusting Findings In New Poll\n",
      "Tenia un valor real de\n",
      "1\n",
      "Y fue predicha como\n",
      "0\n",
      "\n",
      "\n",
      "La noticia: \n",
      "Russia's Putin signs decree imposing restrictions on North Korea\n",
      "Tenia un valor real de\n",
      "0\n",
      "Y fue predicha como\n",
      "0\n",
      "\n",
      "\n",
      "La noticia: \n",
      "SMOKING GUN? First FISA Request on Trump Tower Came After Bill Clinton, Obama’s AG Loretta Lynch Had Private Meeting On Plane\n",
      "Tenia un valor real de\n",
      "0\n",
      "Y fue predicha como\n",
      "0\n",
      "\n",
      "\n",
      "La noticia: \n",
      "UK raises 'grave concerns' about illegal settlements with Israel's Netanyahu: May's office\n",
      "Tenia un valor real de\n",
      "0\n",
      "Y fue predicha como\n",
      "1\n",
      "\n",
      "\n",
      "La noticia: \n",
      "Russian diplomats vacate three properties on U.S. orders\n",
      "Tenia un valor real de\n",
      "1\n",
      "Y fue predicha como\n",
      "1\n",
      "\n",
      "\n",
      "La noticia: \n",
      " Obama And Justin Trudeau Had Dinner Tuesday; For A Moment, The World Felt Sane Again\n",
      "Tenia un valor real de\n",
      "0\n",
      "Y fue predicha como\n",
      "1\n",
      "\n",
      "\n",
      "La noticia: \n",
      "Factbox: Republican senators to watch in tax bill fight\n",
      "Tenia un valor real de\n",
      "0\n",
      "Y fue predicha como\n",
      "0\n",
      "\n",
      "\n",
      "La noticia: \n",
      "Law to let Museveni extend rule brought to Ugandan parliament\n",
      "Tenia un valor real de\n",
      "1\n",
      "Y fue predicha como\n",
      "1\n",
      "\n",
      "\n",
      "La noticia: \n",
      "Trump names suspect captured for role in 2012 Benghazi attack on Americans\n",
      "Tenia un valor real de\n",
      "0\n",
      "Y fue predicha como\n",
      "0\n",
      "\n",
      "\n",
      "La noticia: \n",
      "LOL! $45 MILLION DOLLAR WHOOPI Complains Conservatives Prevented Her From Making A Living [VIDEO]\n",
      "Tenia un valor real de\n",
      "0\n",
      "Y fue predicha como\n",
      "1\n",
      "\n",
      "\n",
      "La noticia: \n",
      " Robert DeNiro Ignorantly Allows Anti-Vaxxer Propaganda At Tribeca Film Festival\n",
      "Tenia un valor real de\n",
      "0\n",
      "Y fue predicha como\n",
      "1\n",
      "\n",
      "\n",
      "La noticia: \n",
      "Asylum seekers refuse to leave Papua New Guinea camp despite loss of power, water\n",
      "Tenia un valor real de\n",
      "0\n",
      "Y fue predicha como\n",
      "1\n",
      "\n",
      "\n",
      "La noticia: \n",
      "CLINTON’S BEG For Cash As Foundation’s Ability To Peddle Influence Has Been Undermined By Trump And Russian Hackers…LOL!\n",
      "Tenia un valor real de\n",
      "1\n",
      "Y fue predicha como\n",
      "1\n",
      "\n",
      "\n",
      "La noticia: \n",
      " Inauguration Protesters Could Face Decades In Prison; This Is War Against The First Amendment\n",
      "Tenia un valor real de\n",
      "1\n",
      "Y fue predicha como\n",
      "1\n",
      "\n",
      "\n"
     ]
    }
   ],
   "source": [
    "for noticia_idx in range(15):\n",
    "    print(\"La noticia: \")\n",
    "    print(test_df['title'].iloc[noticia_idx])\n",
    "    print(\"Tenia un valor real de\")\n",
    "    print(labels_bert[noticia_idx])\n",
    "    print(\"Y fue predicha como\")\n",
    "    print(y_pred_test_bert[noticia_idx])\n",
    "    print(\"\\n\")\n"
   ]
  },
  {
   "cell_type": "markdown",
   "metadata": {},
   "source": [
    "Observaciones: \n",
    "\n",
    "En SVM, vemos como el factor C es muy importante en los resultados que tenemos. En el kernel lineal vemos que la accuracy suele crecer en conjunto a C, pero también notamos algo interesante: existe un tope. Una vez que el C sigue creciendo, el accuracy baja. Esto se podría deber a que estamos viendo un overfit.\n",
    "\n",
    "El kernel polinomial presenta los peores rendimientos en general, a pesar de variar su C. La razón de esto es, probablemente, debida a la naturaleza y mezcla de datos.\n",
    "\n",
    "RDF suele crecer junto a C, presentando grandes saltos una vez que llegamos a un C óptimo. Esto nos hace pensar que RDF es mas sensible al valor de la penalización de clases que los otros tipos."
   ]
  },
  {
   "cell_type": "markdown",
   "metadata": {},
   "source": [
    "## AC05: Random Forest\n",
    "\n",
    "Random Forest son un método de clasificación ML que crea múltiples árboles de decisión a medida que va entrenando el modelo. También como '\"Bosques Aleatorios\"', es una combinación de árboles predictores tal que cada árbol depende de los valores de un vector aleatorio probado independientemente y con la misma distribución para cada uno de estos. Es una modificación sustancial de bagging que construye una larga colección de árboles no correlacionados y luego los promedia.\n",
    "\n",
    "\n",
    "La idea esencial del bagging es promediar muchos modelos ruidosos pero aproximadamente imparciales, y por tanto reducir la variación. Los árboles son los candidatos ideales para el bagging, dado que ellos pueden registrar estructuras de interacción compleja en los datos, y si crecen suficientemente profundo, tienen relativamente baja parcialidad. Producto de que los árboles son notoriamente ruidosos, ellos se benefician enormemente al promediar.\n",
    "\n",
    "\n",
    "Cada árbol es construido usando el siguiente algoritmo:\n",
    "\n",
    "- Sea N el número de casos de prueba, M es el número de variables en el clasificador.\n",
    "- Sea m el número de variables de entrada a ser usado para determinar la decisión en un nodo dado; m debe ser mucho menor que M\n",
    "- Elegir un conjunto de entrenamiento para este árbol y usar el resto de los casos de prueba para estimar el error.\n",
    "- Para cada nodo del árbol, elegir aleatoriamente m variables en las cuales basar la decisión. Calcular la mejor partición del conjunto de entrenamiento a partir de las m variables.\n"
   ]
  },
  {
   "cell_type": "code",
   "execution_count": 86,
   "metadata": {},
   "outputs": [
    {
     "data": {
      "image/png": "[encoded data removed]",
      "text/plain": [
       "<IPython.core.display.Image object>"
      ]
     },
     "execution_count": 86,
     "metadata": {
      "image/png": {
       "height": 300,
       "width": 600
      }
     },
     "output_type": "execute_result"
    }
   ],
   "source": [
    "Image(filename = \"rfsss.png\", width = 600, height = 300)"
   ]
  },
  {
   "cell_type": "markdown",
   "metadata": {},
   "source": [
    "- **¿Qué determina el parámetro criterion?**\n",
    "\n",
    "- **criterion**: determina que función será la utilizada para medir la calidad de una división. Puede ser Gini o Entropia. Ambas se utilizan para medir la impureza de un nodo.\n",
    "\n",
    "    - **Gini**: utiliza la impureza Gini y va de 0 a 0.5. Mide el grado o probabilidad de clasificar mal una variable particular cuando la elegimos aleatoriamente. Qué nos referimos por impureza ? Si todos los elementos corresponden a una clase, entonces puede llamarse pura. El coeficiente va de 0 a 1, en donde 0 denota que todos los elementos pertenecen a cierta clase (o si exite solo una) y 1 dentoa que estan distribuidos entre varias clases. Por ejemplo, Gini = 0.5 denota que los elementos estan distribuidos equitativamente entre todas las clases.\n",
    "    \n",
    "    - **Entropia**: utiliza ganancia de información. Va entre 0 y 1. La ganancia de información es la entropia de un nodo padre menos la suma ponderada de las entropias de los nodos hijos. La ponderacion de un nodo hoja es el numero de muestras en el nodo/total numero de muestras de todos los nodos hoja.\n",
    "\n",
    "\n",
    "- **max_depth**: es la maxima profundidad a la cual llegarán los árboles. Una vez llegado a ese nivel, se construyen los nodos hoja en vez de seguir expandiendo.\n",
    "\n",
    "\n",
    "- **n_estimator**: cantidad de árboles del bosque que queremos construir antes de utilizar el metodo de voto por mayoria o promedio en predicciones. Mientras mas grande, tendremos mejor performance pero lo hará mas lento de procesar.\n",
    "\n",
    "Estas decisiones afectan directamente el como medimos los arboles que estamos creando.\n"
   ]
  },
  {
   "cell_type": "code",
   "execution_count": 112,
   "metadata": {},
   "outputs": [
    {
     "data": {
      "image/png": "[encoded data removed]",
      "text/plain": [
       "<IPython.core.display.Image object>"
      ]
     },
     "execution_count": 112,
     "metadata": {
      "image/png": {
       "height": 300,
       "width": 600
      }
     },
     "output_type": "execute_result"
    }
   ],
   "source": [
    "Image(filename = \"ginivsent.png\", width = 600, height = 300)"
   ]
  },
  {
   "cell_type": "markdown",
   "metadata": {},
   "source": [
    "### RF + BoW"
   ]
  },
  {
   "cell_type": "code",
   "execution_count": 94,
   "metadata": {},
   "outputs": [],
   "source": [
    "# Dividiendo el dataset para usar BoW\n",
    "X_bow, X_test_bow, y_bow, y_test_bow = train_test_split(bow_emb_100, \n",
    "                                                        np.array(labels_), \n",
    "                                                        shuffle=False, \n",
    "                                                        test_size=0.2)\n",
    "\n",
    "# Generando el set de train y validacion\n",
    "X_train_bow, X_val_bow, y_train_bow, y_val_bow = train_test_split(X_bow, \n",
    "                                                                  y_bow, \n",
    "                                                                  shuffle=False, \n",
    "                                                                  test_size=0.2)"
   ]
  },
  {
   "cell_type": "code",
   "execution_count": 95,
   "metadata": {},
   "outputs": [
    {
     "name": "stdout",
     "output_type": "stream",
     "text": [
      "Accuracy: 0.6805874573675785 % criterion_: entropy , trees: 2 depth: 1\n",
      "Accuracy: 0.9584464397577782 % criterion_: entropy , trees: 2 depth: 10\n",
      "Accuracy: 0.9981554952321292 % criterion_: entropy , trees: 2 depth: 20\n",
      "Accuracy: 0.9980858912786246 % criterion_: entropy , trees: 2 depth: 50\n",
      "Accuracy: 0.9980858912786246 % criterion_: entropy , trees: 2 depth: 100\n",
      "Accuracy: 0.6805874573675785 % criterion_: entropy , trees: 5 depth: 1\n",
      "Accuracy: 0.9584464397577782 % criterion_: entropy , trees: 5 depth: 10\n",
      "Accuracy: 0.9981554952321292 % criterion_: entropy , trees: 5 depth: 20\n",
      "Accuracy: 0.9980858912786246 % criterion_: entropy , trees: 5 depth: 50\n",
      "Accuracy: 0.9980858912786246 % criterion_: entropy , trees: 5 depth: 100\n",
      "Accuracy: 0.6805874573675785 % criterion_: entropy , trees: 10 depth: 1\n",
      "Accuracy: 0.9584464397577782 % criterion_: entropy , trees: 10 depth: 10\n",
      "Accuracy: 0.9981554952321292 % criterion_: entropy , trees: 10 depth: 20\n",
      "Accuracy: 0.9980858912786246 % criterion_: entropy , trees: 10 depth: 50\n",
      "Accuracy: 0.9980858912786246 % criterion_: entropy , trees: 10 depth: 100\n",
      "Accuracy: 0.6805874573675785 % criterion_: entropy , trees: 50 depth: 1\n",
      "Accuracy: 0.9584464397577782 % criterion_: entropy , trees: 50 depth: 10\n",
      "Accuracy: 0.9981554952321292 % criterion_: entropy , trees: 50 depth: 20\n",
      "Accuracy: 0.9980858912786246 % criterion_: entropy , trees: 50 depth: 50\n",
      "Accuracy: 0.9980858912786246 % criterion_: entropy , trees: 50 depth: 100\n",
      "Accuracy: 0.6805874573675785 % criterion_: entropy , trees: 100 depth: 1\n",
      "Accuracy: 0.9584464397577782 % criterion_: entropy , trees: 100 depth: 10\n",
      "Accuracy: 0.9981554952321292 % criterion_: entropy , trees: 100 depth: 20\n",
      "Accuracy: 0.9980858912786246 % criterion_: entropy , trees: 100 depth: 50\n",
      "Accuracy: 0.9980858912786246 % criterion_: entropy , trees: 100 depth: 100\n",
      "Accuracy: 0.6804830514373217 % criterion_: gini , trees: 2 depth: 1\n",
      "Accuracy: 0.9604997563861627 % criterion_: gini , trees: 2 depth: 10\n",
      "Accuracy: 0.9979814853483678 % criterion_: gini , trees: 2 depth: 20\n",
      "Accuracy: 0.9977726734878541 % criterion_: gini , trees: 2 depth: 50\n",
      "Accuracy: 0.9977726734878541 % criterion_: gini , trees: 2 depth: 100\n",
      "Accuracy: 0.6804830514373217 % criterion_: gini , trees: 5 depth: 1\n",
      "Accuracy: 0.9604997563861627 % criterion_: gini , trees: 5 depth: 10\n",
      "Accuracy: 0.9979814853483678 % criterion_: gini , trees: 5 depth: 20\n",
      "Accuracy: 0.9977726734878541 % criterion_: gini , trees: 5 depth: 50\n",
      "Accuracy: 0.9977726734878541 % criterion_: gini , trees: 5 depth: 100\n",
      "Accuracy: 0.6804830514373217 % criterion_: gini , trees: 10 depth: 1\n",
      "Accuracy: 0.9604997563861627 % criterion_: gini , trees: 10 depth: 10\n",
      "Accuracy: 0.9979814853483678 % criterion_: gini , trees: 10 depth: 20\n",
      "Accuracy: 0.9977726734878541 % criterion_: gini , trees: 10 depth: 50\n",
      "Accuracy: 0.9977726734878541 % criterion_: gini , trees: 10 depth: 100\n",
      "Accuracy: 0.6804830514373217 % criterion_: gini , trees: 50 depth: 1\n",
      "Accuracy: 0.9604997563861627 % criterion_: gini , trees: 50 depth: 10\n",
      "Accuracy: 0.9979814853483678 % criterion_: gini , trees: 50 depth: 20\n",
      "Accuracy: 0.9977726734878541 % criterion_: gini , trees: 50 depth: 50\n",
      "Accuracy: 0.9977726734878541 % criterion_: gini , trees: 50 depth: 100\n",
      "Accuracy: 0.6804830514373217 % criterion_: gini , trees: 100 depth: 1\n",
      "Accuracy: 0.9604997563861627 % criterion_: gini , trees: 100 depth: 10\n",
      "Accuracy: 0.9979814853483678 % criterion_: gini , trees: 100 depth: 20\n",
      "Accuracy: 0.9977726734878541 % criterion_: gini , trees: 100 depth: 50\n",
      "Accuracy: 0.9977726734878541 % criterion_: gini , trees: 100 depth: 100\n"
     ]
    }
   ],
   "source": [
    "# Train set\n",
    "\n",
    "warnings.filterwarnings(\"ignore\")\n",
    "criterions = [\"entropy\", \"gini\"]\n",
    "n_trees = [2, 5, 10, 50, 100]\n",
    "max_depths = [1, 10, 20, 50, 100]\n",
    "\n",
    "for criterion_ in criterions:\n",
    "    for trees in n_trees:\n",
    "        for depth in max_depths:\n",
    "            clf = RandomForestClassifier(n_estimators= trees, max_depth=depth, criterion= criterion_, random_state=0)\n",
    "            clf.fit(X_train_bow, y_train_bow)\n",
    "            y_pred = clf.predict(X_train_bow)\n",
    "            print('Accuracy:', accuracy_score(y_train_bow, y_pred), '%', 'criterion_:',criterion_,', trees:', trees, 'depth:', depth)\n"
   ]
  },
  {
   "cell_type": "code",
   "execution_count": 98,
   "metadata": {},
   "outputs": [
    {
     "name": "stdout",
     "output_type": "stream",
     "text": [
      "Accuracy: 0.686108017817372 % criterion_: entropy , trees: 2 depth: 1\n",
      "Accuracy: 0.9149498886414253 % criterion_: entropy , trees: 2 depth: 10\n",
      "Accuracy: 0.9271993318485523 % criterion_: entropy , trees: 2 depth: 20\n",
      "Accuracy: 0.928173719376392 % criterion_: entropy , trees: 2 depth: 50\n",
      "Accuracy: 0.928173719376392 % criterion_: entropy , trees: 2 depth: 100\n",
      "Accuracy: 0.686108017817372 % criterion_: entropy , trees: 5 depth: 1\n",
      "Accuracy: 0.9149498886414253 % criterion_: entropy , trees: 5 depth: 10\n",
      "Accuracy: 0.9271993318485523 % criterion_: entropy , trees: 5 depth: 20\n",
      "Accuracy: 0.928173719376392 % criterion_: entropy , trees: 5 depth: 50\n",
      "Accuracy: 0.928173719376392 % criterion_: entropy , trees: 5 depth: 100\n",
      "Accuracy: 0.686108017817372 % criterion_: entropy , trees: 10 depth: 1\n",
      "Accuracy: 0.9149498886414253 % criterion_: entropy , trees: 10 depth: 10\n",
      "Accuracy: 0.9271993318485523 % criterion_: entropy , trees: 10 depth: 20\n",
      "Accuracy: 0.928173719376392 % criterion_: entropy , trees: 10 depth: 50\n",
      "Accuracy: 0.928173719376392 % criterion_: entropy , trees: 10 depth: 100\n",
      "Accuracy: 0.686108017817372 % criterion_: entropy , trees: 50 depth: 1\n",
      "Accuracy: 0.9149498886414253 % criterion_: entropy , trees: 50 depth: 10\n",
      "Accuracy: 0.9271993318485523 % criterion_: entropy , trees: 50 depth: 20\n",
      "Accuracy: 0.928173719376392 % criterion_: entropy , trees: 50 depth: 50\n",
      "Accuracy: 0.928173719376392 % criterion_: entropy , trees: 50 depth: 100\n",
      "Accuracy: 0.686108017817372 % criterion_: entropy , trees: 100 depth: 1\n",
      "Accuracy: 0.9149498886414253 % criterion_: entropy , trees: 100 depth: 10\n",
      "Accuracy: 0.9271993318485523 % criterion_: entropy , trees: 100 depth: 20\n",
      "Accuracy: 0.928173719376392 % criterion_: entropy , trees: 100 depth: 50\n",
      "Accuracy: 0.928173719376392 % criterion_: entropy , trees: 100 depth: 100\n",
      "Accuracy: 0.6851336302895323 % criterion_: gini , trees: 2 depth: 1\n",
      "Accuracy: 0.9175946547884187 % criterion_: gini , trees: 2 depth: 10\n",
      "Accuracy: 0.9273385300668151 % criterion_: gini , trees: 2 depth: 20\n",
      "Accuracy: 0.9263641425389755 % criterion_: gini , trees: 2 depth: 50\n",
      "Accuracy: 0.9263641425389755 % criterion_: gini , trees: 2 depth: 100\n",
      "Accuracy: 0.6851336302895323 % criterion_: gini , trees: 5 depth: 1\n",
      "Accuracy: 0.9175946547884187 % criterion_: gini , trees: 5 depth: 10\n",
      "Accuracy: 0.9273385300668151 % criterion_: gini , trees: 5 depth: 20\n",
      "Accuracy: 0.9263641425389755 % criterion_: gini , trees: 5 depth: 50\n",
      "Accuracy: 0.9263641425389755 % criterion_: gini , trees: 5 depth: 100\n",
      "Accuracy: 0.6851336302895323 % criterion_: gini , trees: 10 depth: 1\n",
      "Accuracy: 0.9175946547884187 % criterion_: gini , trees: 10 depth: 10\n",
      "Accuracy: 0.9273385300668151 % criterion_: gini , trees: 10 depth: 20\n",
      "Accuracy: 0.9263641425389755 % criterion_: gini , trees: 10 depth: 50\n",
      "Accuracy: 0.9263641425389755 % criterion_: gini , trees: 10 depth: 100\n",
      "Accuracy: 0.6851336302895323 % criterion_: gini , trees: 50 depth: 1\n",
      "Accuracy: 0.9175946547884187 % criterion_: gini , trees: 50 depth: 10\n",
      "Accuracy: 0.9273385300668151 % criterion_: gini , trees: 50 depth: 20\n",
      "Accuracy: 0.9263641425389755 % criterion_: gini , trees: 50 depth: 50\n",
      "Accuracy: 0.9263641425389755 % criterion_: gini , trees: 50 depth: 100\n",
      "Accuracy: 0.6851336302895323 % criterion_: gini , trees: 100 depth: 1\n",
      "Accuracy: 0.9175946547884187 % criterion_: gini , trees: 100 depth: 10\n",
      "Accuracy: 0.9273385300668151 % criterion_: gini , trees: 100 depth: 20\n",
      "Accuracy: 0.9263641425389755 % criterion_: gini , trees: 100 depth: 50\n",
      "Accuracy: 0.9263641425389755 % criterion_: gini , trees: 100 depth: 100\n"
     ]
    }
   ],
   "source": [
    "# Validation set\n",
    "\n",
    "warnings.filterwarnings(\"ignore\")\n",
    "criterions = [\"entropy\", \"gini\"]\n",
    "n_trees = [2, 5, 10, 50, 100]\n",
    "max_depths = [1, 10, 20, 50, 100]\n",
    "\n",
    "for criterion_ in criterions:\n",
    "    for trees in n_trees:\n",
    "        for depth in max_depths:\n",
    "            clf = RandomForestClassifier(n_estimators= trees, max_depth=depth, criterion= criterion_, random_state=0)\n",
    "            clf.fit(X_train_bow, y_train_bow)\n",
    "            y_pred = clf.predict(X_val_bow)\n",
    "            print('Accuracy:', accuracy_score(y_val_bow, y_pred), '%', 'criterion_:',criterion_,', trees:', trees, 'depth:', depth)\n"
   ]
  },
  {
   "cell_type": "markdown",
   "metadata": {},
   "source": [
    "### RF + W2V"
   ]
  },
  {
   "cell_type": "code",
   "execution_count": 99,
   "metadata": {},
   "outputs": [],
   "source": [
    "#SVM con Word2Vec con normalizacion por feature\n",
    "\n",
    "X_w2v, X_test_w2v, y_w2v, y_test_w2v = train_test_split(X_w2v_per_feat, \n",
    "                                                        labels_, \n",
    "                                                        shuffle=False, \n",
    "                                                        test_size=0.2)\n",
    "\n",
    "X_train_w2v, X_val_w2v, y_train_w2v, y_val_w2v = train_test_split(X_w2v, \n",
    "                                                                  y_w2v, \n",
    "                                                                  shuffle=False, \n",
    "                                                                  test_size=0.2)"
   ]
  },
  {
   "cell_type": "code",
   "execution_count": 100,
   "metadata": {},
   "outputs": [
    {
     "name": "stdout",
     "output_type": "stream",
     "text": [
      "Accuracy: 0.857451103222663 % criterion_: entropy , trees: 2 depth: 1\n",
      "Accuracy: 0.9741421312730563 % criterion_: entropy , trees: 2 depth: 10\n",
      "Accuracy: 0.9980510893018724 % criterion_: entropy , trees: 2 depth: 20\n",
      "Accuracy: 0.9979814853483678 % criterion_: entropy , trees: 2 depth: 50\n",
      "Accuracy: 0.9979814853483678 % criterion_: entropy , trees: 2 depth: 100\n",
      "Accuracy: 0.857451103222663 % criterion_: entropy , trees: 5 depth: 1\n",
      "Accuracy: 0.9741421312730563 % criterion_: entropy , trees: 5 depth: 10\n",
      "Accuracy: 0.9980510893018724 % criterion_: entropy , trees: 5 depth: 20\n",
      "Accuracy: 0.9979814853483678 % criterion_: entropy , trees: 5 depth: 50\n",
      "Accuracy: 0.9979814853483678 % criterion_: entropy , trees: 5 depth: 100\n",
      "Accuracy: 0.857451103222663 % criterion_: entropy , trees: 10 depth: 1\n",
      "Accuracy: 0.9741421312730563 % criterion_: entropy , trees: 10 depth: 10\n",
      "Accuracy: 0.9980510893018724 % criterion_: entropy , trees: 10 depth: 20\n",
      "Accuracy: 0.9979814853483678 % criterion_: entropy , trees: 10 depth: 50\n",
      "Accuracy: 0.9979814853483678 % criterion_: entropy , trees: 10 depth: 100\n",
      "Accuracy: 0.857451103222663 % criterion_: entropy , trees: 50 depth: 1\n",
      "Accuracy: 0.9741421312730563 % criterion_: entropy , trees: 50 depth: 10\n",
      "Accuracy: 0.9980510893018724 % criterion_: entropy , trees: 50 depth: 20\n",
      "Accuracy: 0.9979814853483678 % criterion_: entropy , trees: 50 depth: 50\n",
      "Accuracy: 0.9979814853483678 % criterion_: entropy , trees: 50 depth: 100\n",
      "Accuracy: 0.857451103222663 % criterion_: entropy , trees: 100 depth: 1\n",
      "Accuracy: 0.9741421312730563 % criterion_: entropy , trees: 100 depth: 10\n",
      "Accuracy: 0.9980510893018724 % criterion_: entropy , trees: 100 depth: 20\n",
      "Accuracy: 0.9979814853483678 % criterion_: entropy , trees: 100 depth: 50\n",
      "Accuracy: 0.9979814853483678 % criterion_: entropy , trees: 100 depth: 100\n",
      "Accuracy: 0.8564418458968469 % criterion_: gini , trees: 2 depth: 1\n",
      "Accuracy: 0.9697570822022691 % criterion_: gini , trees: 2 depth: 10\n",
      "Accuracy: 0.99801628732512 % criterion_: gini , trees: 2 depth: 20\n",
      "Accuracy: 0.997877079418111 % criterion_: gini , trees: 2 depth: 50\n",
      "Accuracy: 0.997877079418111 % criterion_: gini , trees: 2 depth: 100\n",
      "Accuracy: 0.8564418458968469 % criterion_: gini , trees: 5 depth: 1\n",
      "Accuracy: 0.9697570822022691 % criterion_: gini , trees: 5 depth: 10\n",
      "Accuracy: 0.99801628732512 % criterion_: gini , trees: 5 depth: 20\n",
      "Accuracy: 0.997877079418111 % criterion_: gini , trees: 5 depth: 50\n",
      "Accuracy: 0.997877079418111 % criterion_: gini , trees: 5 depth: 100\n",
      "Accuracy: 0.8564418458968469 % criterion_: gini , trees: 10 depth: 1\n",
      "Accuracy: 0.9697570822022691 % criterion_: gini , trees: 10 depth: 10\n",
      "Accuracy: 0.99801628732512 % criterion_: gini , trees: 10 depth: 20\n",
      "Accuracy: 0.997877079418111 % criterion_: gini , trees: 10 depth: 50\n",
      "Accuracy: 0.997877079418111 % criterion_: gini , trees: 10 depth: 100\n",
      "Accuracy: 0.8564418458968469 % criterion_: gini , trees: 50 depth: 1\n",
      "Accuracy: 0.9697570822022691 % criterion_: gini , trees: 50 depth: 10\n",
      "Accuracy: 0.99801628732512 % criterion_: gini , trees: 50 depth: 20\n",
      "Accuracy: 0.997877079418111 % criterion_: gini , trees: 50 depth: 50\n",
      "Accuracy: 0.997877079418111 % criterion_: gini , trees: 50 depth: 100\n",
      "Accuracy: 0.8564418458968469 % criterion_: gini , trees: 100 depth: 1\n",
      "Accuracy: 0.9697570822022691 % criterion_: gini , trees: 100 depth: 10\n",
      "Accuracy: 0.99801628732512 % criterion_: gini , trees: 100 depth: 20\n",
      "Accuracy: 0.997877079418111 % criterion_: gini , trees: 100 depth: 50\n",
      "Accuracy: 0.997877079418111 % criterion_: gini , trees: 100 depth: 100\n"
     ]
    }
   ],
   "source": [
    "# Train set\n",
    "\n",
    "warnings.filterwarnings(\"ignore\")\n",
    "\n",
    "criterions = [\"entropy\", \"gini\"]\n",
    "n_trees = [2, 5, 10, 50, 100]\n",
    "max_depths = [1, 10, 20, 50, 100]\n",
    "\n",
    "for criterion_ in criterions:\n",
    "    for trees in n_trees:\n",
    "        for depth in max_depths:\n",
    "            clf = RandomForestClassifier(n_estimators= trees, max_depth=depth, criterion= criterion_, random_state=0)\n",
    "            clf.fit(X_train_w2v, y_train_w2v)\n",
    "            y_pred = clf.predict(X_train_w2v)\n",
    "            print('Accuracy:', accuracy_score(y_train_w2v, y_pred), '%', 'criterion_:',criterion_,', trees:', trees, 'depth:', depth)\n"
   ]
  },
  {
   "cell_type": "code",
   "execution_count": 77,
   "metadata": {},
   "outputs": [
    {
     "name": "stdout",
     "output_type": "stream",
     "text": [
      "Accuracy: 0.8574610244988864 % criterion_: entropy , trees: 2 depth: 1\n",
      "Accuracy: 0.9452951002227171 % criterion_: entropy , trees: 2 depth: 10\n",
      "Accuracy: 0.9582405345211581 % criterion_: entropy , trees: 2 depth: 20\n",
      "Accuracy: 0.9562917594654788 % criterion_: entropy , trees: 2 depth: 50\n",
      "Accuracy: 0.9562917594654788 % criterion_: entropy , trees: 2 depth: 100\n",
      "Accuracy: 0.8574610244988864 % criterion_: entropy , trees: 20 depth: 1\n",
      "Accuracy: 0.9452951002227171 % criterion_: entropy , trees: 20 depth: 10\n",
      "Accuracy: 0.9582405345211581 % criterion_: entropy , trees: 20 depth: 20\n",
      "Accuracy: 0.9562917594654788 % criterion_: entropy , trees: 20 depth: 50\n",
      "Accuracy: 0.9562917594654788 % criterion_: entropy , trees: 20 depth: 100\n",
      "Accuracy: 0.8574610244988864 % criterion_: entropy , trees: 50 depth: 1\n",
      "Accuracy: 0.9452951002227171 % criterion_: entropy , trees: 50 depth: 10\n",
      "Accuracy: 0.9582405345211581 % criterion_: entropy , trees: 50 depth: 20\n",
      "Accuracy: 0.9562917594654788 % criterion_: entropy , trees: 50 depth: 50\n",
      "Accuracy: 0.9562917594654788 % criterion_: entropy , trees: 50 depth: 100\n",
      "Accuracy: 0.8574610244988864 % criterion_: entropy , trees: 100 depth: 1\n",
      "Accuracy: 0.9452951002227171 % criterion_: entropy , trees: 100 depth: 10\n",
      "Accuracy: 0.9582405345211581 % criterion_: entropy , trees: 100 depth: 20\n",
      "Accuracy: 0.9562917594654788 % criterion_: entropy , trees: 100 depth: 50\n",
      "Accuracy: 0.9562917594654788 % criterion_: entropy , trees: 100 depth: 100\n",
      "Accuracy: 0.8574610244988864 % criterion_: entropy , trees: 1000 depth: 1\n",
      "Accuracy: 0.9452951002227171 % criterion_: entropy , trees: 1000 depth: 10\n",
      "Accuracy: 0.9582405345211581 % criterion_: entropy , trees: 1000 depth: 20\n",
      "Accuracy: 0.9562917594654788 % criterion_: entropy , trees: 1000 depth: 50\n",
      "Accuracy: 0.9562917594654788 % criterion_: entropy , trees: 1000 depth: 100\n",
      "Accuracy: 0.8574610244988864 % criterion_: entropy , trees: 10000 depth: 1\n",
      "Accuracy: 0.9452951002227171 % criterion_: entropy , trees: 10000 depth: 10\n",
      "Accuracy: 0.9582405345211581 % criterion_: entropy , trees: 10000 depth: 20\n",
      "Accuracy: 0.9562917594654788 % criterion_: entropy , trees: 10000 depth: 50\n",
      "Accuracy: 0.9562917594654788 % criterion_: entropy , trees: 10000 depth: 100\n",
      "Accuracy: 0.857043429844098 % criterion_: gini , trees: 2 depth: 1\n",
      "Accuracy: 0.9458518930957683 % criterion_: gini , trees: 2 depth: 10\n",
      "Accuracy: 0.9546213808463252 % criterion_: gini , trees: 2 depth: 20\n",
      "Accuracy: 0.9560133630289532 % criterion_: gini , trees: 2 depth: 50\n",
      "Accuracy: 0.9560133630289532 % criterion_: gini , trees: 2 depth: 100\n",
      "Accuracy: 0.857043429844098 % criterion_: gini , trees: 20 depth: 1\n",
      "Accuracy: 0.9458518930957683 % criterion_: gini , trees: 20 depth: 10\n",
      "Accuracy: 0.9546213808463252 % criterion_: gini , trees: 20 depth: 20\n",
      "Accuracy: 0.9560133630289532 % criterion_: gini , trees: 20 depth: 50\n",
      "Accuracy: 0.9560133630289532 % criterion_: gini , trees: 20 depth: 100\n",
      "Accuracy: 0.857043429844098 % criterion_: gini , trees: 50 depth: 1\n",
      "Accuracy: 0.9458518930957683 % criterion_: gini , trees: 50 depth: 10\n",
      "Accuracy: 0.9546213808463252 % criterion_: gini , trees: 50 depth: 20\n",
      "Accuracy: 0.9560133630289532 % criterion_: gini , trees: 50 depth: 50\n",
      "Accuracy: 0.9560133630289532 % criterion_: gini , trees: 50 depth: 100\n",
      "Accuracy: 0.857043429844098 % criterion_: gini , trees: 100 depth: 1\n",
      "Accuracy: 0.9458518930957683 % criterion_: gini , trees: 100 depth: 10\n",
      "Accuracy: 0.9546213808463252 % criterion_: gini , trees: 100 depth: 20\n",
      "Accuracy: 0.9560133630289532 % criterion_: gini , trees: 100 depth: 50\n",
      "Accuracy: 0.9560133630289532 % criterion_: gini , trees: 100 depth: 100\n",
      "Accuracy: 0.857043429844098 % criterion_: gini , trees: 1000 depth: 1\n",
      "Accuracy: 0.9458518930957683 % criterion_: gini , trees: 1000 depth: 10\n",
      "Accuracy: 0.9546213808463252 % criterion_: gini , trees: 1000 depth: 20\n",
      "Accuracy: 0.9560133630289532 % criterion_: gini , trees: 1000 depth: 50\n",
      "Accuracy: 0.9560133630289532 % criterion_: gini , trees: 1000 depth: 100\n",
      "Accuracy: 0.857043429844098 % criterion_: gini , trees: 10000 depth: 1\n",
      "Accuracy: 0.9458518930957683 % criterion_: gini , trees: 10000 depth: 10\n",
      "Accuracy: 0.9546213808463252 % criterion_: gini , trees: 10000 depth: 20\n",
      "Accuracy: 0.9560133630289532 % criterion_: gini , trees: 10000 depth: 50\n",
      "Accuracy: 0.9560133630289532 % criterion_: gini , trees: 10000 depth: 100\n"
     ]
    }
   ],
   "source": [
    "# Validation set\n",
    "warnings.filterwarnings(\"ignore\")\n",
    "\n",
    "criterions = [\"entropy\", \"gini\"]\n",
    "n_trees = [2, 20, 50, 100, 1000, 10000]\n",
    "max_depths = [1, 10, 20, 50, 100]\n",
    "\n",
    "for criterion_ in criterions:\n",
    "    for trees in n_trees:\n",
    "        for depth in max_depths:\n",
    "            clf = RandomForestClassifier(n_estimators= trees, max_depth=depth, criterion= criterion_, random_state=0)\n",
    "            clf.fit(X_train_w2v, y_train_w2v)\n",
    "            y_pred = clf.predict(X_val_w2v)\n",
    "            print('Accuracy:', accuracy_score(y_val_w2v, y_pred), '%', 'criterion_:',criterion_,', trees:', trees, 'depth:', depth)\n"
   ]
  },
  {
   "cell_type": "markdown",
   "metadata": {},
   "source": [
    "### RF + BERT"
   ]
  },
  {
   "cell_type": "code",
   "execution_count": 78,
   "metadata": {},
   "outputs": [],
   "source": [
    "#SVM con Word2Vec con normalizacion por observacion o texto\n",
    "\n",
    "X_bert_obs, X_test_bert, y_bert_obs, y_test_bert = train_test_split(ft_bert, \n",
    "                                                                    labels_bert, \n",
    "                                                                    shuffle=False, \n",
    "                                                                    test_size=0.2)\n",
    "\n",
    "X_train_bert, X_val_bert, y_train_bert, y_val_bert = train_test_split(X_bert_obs, \n",
    "                                                                  y_bert_obs, \n",
    "                                                                  shuffle=False, \n",
    "                                                                  test_size=0.2)"
   ]
  },
  {
   "cell_type": "code",
   "execution_count": 90,
   "metadata": {},
   "outputs": [
    {
     "name": "stdout",
     "output_type": "stream",
     "text": [
      "Accuracy: 0.7512419900640794 % criterion_: entropy , trees: 2 depth: 1\n",
      "Accuracy: 0.9573403412772697 % criterion_: entropy , trees: 2 depth: 10\n",
      "Accuracy: 0.967312261501908 % criterion_: entropy , trees: 2 depth: 20\n",
      "Accuracy: 0.967312261501908 % criterion_: entropy , trees: 2 depth: 40\n",
      "Accuracy: 0.967312261501908 % criterion_: entropy , trees: 2 depth: 100\n",
      "Accuracy: 0.789797681618547 % criterion_: entropy , trees: 5 depth: 1\n",
      "Accuracy: 0.9817121463028295 % criterion_: entropy , trees: 5 depth: 10\n",
      "Accuracy: 0.9955720354237166 % criterion_: entropy , trees: 5 depth: 20\n",
      "Accuracy: 0.9955720354237166 % criterion_: entropy , trees: 5 depth: 40\n",
      "Accuracy: 0.9955720354237166 % criterion_: entropy , trees: 5 depth: 100\n",
      "Accuracy: 0.7922456620347037 % criterion_: entropy , trees: 10 depth: 1\n",
      "Accuracy: 0.9874361005111959 % criterion_: entropy , trees: 10 depth: 10\n",
      "Accuracy: 0.9982000143998848 % criterion_: entropy , trees: 10 depth: 20\n",
      "Accuracy: 0.9982000143998848 % criterion_: entropy , trees: 10 depth: 40\n",
      "Accuracy: 0.9982000143998848 % criterion_: entropy , trees: 10 depth: 100\n",
      "Accuracy: 0.8727410180718554 % criterion_: entropy , trees: 50 depth: 1\n",
      "Accuracy: 0.9911800705594356 % criterion_: entropy , trees: 50 depth: 10\n",
      "Accuracy: 0.9999640002879977 % criterion_: entropy , trees: 50 depth: 20\n",
      "Accuracy: 0.9999640002879977 % criterion_: entropy , trees: 50 depth: 40\n",
      "Accuracy: 0.9999640002879977 % criterion_: entropy , trees: 50 depth: 100\n",
      "Accuracy: 0.8728490172078623 % criterion_: entropy , trees: 100 depth: 1\n",
      "Accuracy: 0.9911440708474332 % criterion_: entropy , trees: 100 depth: 10\n",
      "Accuracy: 1.0 % criterion_: entropy , trees: 100 depth: 20\n",
      "Accuracy: 1.0 % criterion_: entropy , trees: 100 depth: 40\n",
      "Accuracy: 1.0 % criterion_: entropy , trees: 100 depth: 100\n",
      "Accuracy: 0.7512419900640794 % criterion_: gini , trees: 2 depth: 1\n",
      "Accuracy: 0.952984376124991 % criterion_: gini , trees: 2 depth: 10\n",
      "Accuracy: 0.9639282885736914 % criterion_: gini , trees: 2 depth: 20\n",
      "Accuracy: 0.9641802865577075 % criterion_: gini , trees: 2 depth: 40\n",
      "Accuracy: 0.9641802865577075 % criterion_: gini , trees: 2 depth: 100\n",
      "Accuracy: 0.7900136798905609 % criterion_: gini , trees: 5 depth: 1\n",
      "Accuracy: 0.9767441860465116 % criterion_: gini , trees: 5 depth: 10\n",
      "Accuracy: 0.9944200446396428 % criterion_: gini , trees: 5 depth: 20\n",
      "Accuracy: 0.9953200374397004 % criterion_: gini , trees: 5 depth: 40\n",
      "Accuracy: 0.9953200374397004 % criterion_: gini , trees: 5 depth: 100\n",
      "Accuracy: 0.7885736914104687 % criterion_: gini , trees: 10 depth: 1\n",
      "Accuracy: 0.982828137374901 % criterion_: gini , trees: 10 depth: 10\n",
      "Accuracy: 0.9980200158398733 % criterion_: gini , trees: 10 depth: 20\n",
      "Accuracy: 0.9982000143998848 % criterion_: gini , trees: 10 depth: 40\n",
      "Accuracy: 0.9982000143998848 % criterion_: gini , trees: 10 depth: 100\n",
      "Accuracy: 0.8724890200878394 % criterion_: gini , trees: 50 depth: 1\n",
      "Accuracy: 0.9870041039671683 % criterion_: gini , trees: 50 depth: 10\n",
      "Accuracy: 0.9994240046079631 % criterion_: gini , trees: 50 depth: 20\n",
      "Accuracy: 0.9999640002879977 % criterion_: gini , trees: 50 depth: 40\n",
      "Accuracy: 0.9999640002879977 % criterion_: gini , trees: 50 depth: 100\n",
      "Accuracy: 0.87281301749586 % criterion_: gini , trees: 100 depth: 1\n",
      "Accuracy: 0.9868961048311613 % criterion_: gini , trees: 100 depth: 10\n",
      "Accuracy: 0.99953200374397 % criterion_: gini , trees: 100 depth: 20\n",
      "Accuracy: 1.0 % criterion_: gini , trees: 100 depth: 40\n",
      "Accuracy: 1.0 % criterion_: gini , trees: 100 depth: 100\n"
     ]
    }
   ],
   "source": [
    "# Train set\n",
    "\n",
    "warnings.filterwarnings(\"ignore\")\n",
    "criterions = [\"entropy\", \"gini\"]\n",
    "n_trees = [2, 5, 10, 50, 100]\n",
    "max_depths = [1, 10, 20, 40, 100]\n",
    "\n",
    "for criterion_ in criterions:\n",
    "    for trees in n_trees:\n",
    "        for depth in max_depths:\n",
    "            clf = RandomForestClassifier(n_estimators= trees, max_depth=depth, criterion= criterion_, random_state=0)\n",
    "            clf.fit(X_train_bert, y_train_bert)\n",
    "            y_pred_val_bert = clf.predict(X_train_bert)\n",
    "            print('Accuracy:', accuracy_score(y_pred_val_bert, y_train_bert), '%', 'criterion_:',criterion_,', trees:', trees, 'depth:', depth)"
   ]
  },
  {
   "cell_type": "code",
   "execution_count": 83,
   "metadata": {},
   "outputs": [
    {
     "name": "stdout",
     "output_type": "stream",
     "text": [
      "Accuracy: 0.7652987760979122 % criterion_: entropy , trees: 2 depth: 1\n",
      "Accuracy: 0.9095752339812815 % criterion_: entropy , trees: 2 depth: 10\n",
      "Accuracy: 0.9052555795536357 % criterion_: entropy , trees: 2 depth: 20\n",
      "Accuracy: 0.9052555795536357 % criterion_: entropy , trees: 2 depth: 40\n",
      "Accuracy: 0.9052555795536357 % criterion_: entropy , trees: 2 depth: 100\n",
      "Accuracy: 0.7982721382289417 % criterion_: entropy , trees: 5 depth: 1\n",
      "Accuracy: 0.9527717782577394 % criterion_: entropy , trees: 5 depth: 10\n",
      "Accuracy: 0.9513318934485241 % criterion_: entropy , trees: 5 depth: 20\n",
      "Accuracy: 0.9513318934485241 % criterion_: entropy , trees: 5 depth: 40\n",
      "Accuracy: 0.9513318934485241 % criterion_: entropy , trees: 5 depth: 100\n",
      "Accuracy: 0.8025917926565874 % criterion_: entropy , trees: 10 depth: 1\n",
      "Accuracy: 0.9612670986321095 % criterion_: entropy , trees: 10 depth: 10\n",
      "Accuracy: 0.9601151907847372 % criterion_: entropy , trees: 10 depth: 20\n",
      "Accuracy: 0.9601151907847372 % criterion_: entropy , trees: 10 depth: 40\n",
      "Accuracy: 0.9601151907847372 % criterion_: entropy , trees: 10 depth: 100\n",
      "Accuracy: 0.8740100791936645 % criterion_: entropy , trees: 50 depth: 1\n",
      "Accuracy: 0.9676025917926566 % criterion_: entropy , trees: 50 depth: 10\n",
      "Accuracy: 0.9724982001439885 % criterion_: entropy , trees: 50 depth: 20\n",
      "Accuracy: 0.9724982001439885 % criterion_: entropy , trees: 50 depth: 40\n",
      "Accuracy: 0.9724982001439885 % criterion_: entropy , trees: 50 depth: 100\n",
      "Accuracy: 0.8758819294456444 % criterion_: entropy , trees: 100 depth: 1\n",
      "Accuracy: 0.9670266378689705 % criterion_: entropy , trees: 100 depth: 10\n",
      "Accuracy: 0.9722102231821454 % criterion_: entropy , trees: 100 depth: 20\n",
      "Accuracy: 0.9722102231821454 % criterion_: entropy , trees: 100 depth: 40\n",
      "Accuracy: 0.9722102231821454 % criterion_: entropy , trees: 100 depth: 100\n",
      "Accuracy: 0.7652987760979122 % criterion_: gini , trees: 2 depth: 1\n",
      "Accuracy: 0.9046796256299496 % criterion_: gini , trees: 2 depth: 10\n",
      "Accuracy: 0.8983441324694025 % criterion_: gini , trees: 2 depth: 20\n",
      "Accuracy: 0.8999280057595392 % criterion_: gini , trees: 2 depth: 40\n",
      "Accuracy: 0.8999280057595392 % criterion_: gini , trees: 2 depth: 100\n",
      "Accuracy: 0.7995680345572355 % criterion_: gini , trees: 5 depth: 1\n",
      "Accuracy: 0.9488840892728582 % criterion_: gini , trees: 5 depth: 10\n",
      "Accuracy: 0.9473002159827214 % criterion_: gini , trees: 5 depth: 20\n",
      "Accuracy: 0.9536357091432686 % criterion_: gini , trees: 5 depth: 40\n",
      "Accuracy: 0.9536357091432686 % criterion_: gini , trees: 5 depth: 100\n",
      "Accuracy: 0.7991360691144709 % criterion_: gini , trees: 10 depth: 1\n",
      "Accuracy: 0.9566594672426206 % criterion_: gini , trees: 10 depth: 10\n",
      "Accuracy: 0.9612670986321095 % criterion_: gini , trees: 10 depth: 20\n",
      "Accuracy: 0.9648668106551476 % criterion_: gini , trees: 10 depth: 40\n",
      "Accuracy: 0.9648668106551476 % criterion_: gini , trees: 10 depth: 100\n",
      "Accuracy: 0.8727141828653707 % criterion_: gini , trees: 50 depth: 1\n",
      "Accuracy: 0.9618430525557955 % criterion_: gini , trees: 50 depth: 10\n",
      "Accuracy: 0.969906407487401 % criterion_: gini , trees: 50 depth: 20\n",
      "Accuracy: 0.9704823614110871 % criterion_: gini , trees: 50 depth: 40\n",
      "Accuracy: 0.9704823614110871 % criterion_: gini , trees: 50 depth: 100\n",
      "Accuracy: 0.8757379409647228 % criterion_: gini , trees: 100 depth: 1\n",
      "Accuracy: 0.9634269258459324 % criterion_: gini , trees: 100 depth: 10\n",
      "Accuracy: 0.9714902807775379 % criterion_: gini , trees: 100 depth: 20\n",
      "Accuracy: 0.972930165586753 % criterion_: gini , trees: 100 depth: 40\n",
      "Accuracy: 0.972930165586753 % criterion_: gini , trees: 100 depth: 100\n"
     ]
    }
   ],
   "source": [
    "# Validation set\n",
    "\n",
    "warnings.filterwarnings(\"ignore\")\n",
    "criterions = [\"entropy\", \"gini\"]\n",
    "n_trees = [2, 5, 10, 50, 100]\n",
    "max_depths = [1, 10, 20, 40, 100]\n",
    "\n",
    "for criterion_ in criterions:\n",
    "    for trees in n_trees:\n",
    "        for depth in max_depths:\n",
    "            clf = RandomForestClassifier(n_estimators= trees, max_depth=depth, criterion= criterion_, random_state=0)\n",
    "            clf.fit(X_train_bert, y_train_bert)\n",
    "            y_pred_val_bert = clf.predict(X_val_bert)\n",
    "            print('Accuracy:', accuracy_score(y_pred_val_bert, y_val_bert), '%', 'criterion_:',criterion_,', trees:', trees, 'depth:', depth)"
   ]
  },
  {
   "cell_type": "markdown",
   "metadata": {},
   "source": [
    "**Presentación de resultados en tablas**. Como hice muchos experimentos, he truncado los valores que eran iguales. Es decir, si el numero de \"Depth\" no incidia en más de un 0.1% de ganancia de accuracy, dejamos de reportar para los depths siguientes. Usualmente esto era observado, en donde aumentar el numero de profundidad no ayudaba. Esto es probablemente ya que el arbol llega a su maxima altura con los datos presentados y no caambia en nada seguir dandole permiso para crecer.\n",
    "\n",
    "\n",
    "\n",
    "## BoW\n",
    "\n",
    "- Training set. \n",
    "\n",
    "n_estimator | max_depth | entropia | gini\n",
    "--- | --- | --- | ---\n",
    "2 | 1  | 68.05 | 68.04 \n",
    "2 | 10 | 95.84 | 96.04\n",
    "2 | 20 | 99.81 | 99.79\n",
    "5 | 1  | 68.05 | 68.04\n",
    "5 | 10 | 95.84 | 96.04\n",
    "5 | 20 | 99.81 | 99.79\n",
    "10 | 1  | 68.05 | 68.04\n",
    "10 | 10 | 95.84 | 96.04\n",
    "10 | 20 | 99.81 | 99.79\n",
    "50 | 1  | 6805 | 68.04\n",
    "50 | 10 | 9584 | 96.04\n",
    "50 | 20 | 99.81 | 99.79\n",
    "100 | 1  | 68.05 | 68.04\n",
    "100 | 10 | 95.84 | 96.04\n",
    "100 | 20 | 99.81 | 99.79\n",
    "\n",
    "- Validation set\n",
    "\n",
    "n_estimator | max_depth | entropia | gini\n",
    "--- | --- | --- | ---\n",
    "2 | 1  | 68.61 | 68.51 \n",
    "2 | 10 | 91.49 | 91.75\n",
    "2 | 20 | 92.71 | 92.73\n",
    "5 | 1  | 68.61 | 68.51\n",
    "5 | 10 | 91.49 | 91.75\n",
    "5 | 20 | 92.71 | 92.73\n",
    "10 | 1  | 68.61 | 68.51\n",
    "10 | 10 | 91.49 | 91.75\n",
    "10 | 20 | 92.71 | 92.73\n",
    "50 | 1  | 68.61 | 68.51\n",
    "50 | 10 | 91.49 | 91.75\n",
    "50 | 20 | 92.71 | 92.73\n",
    "100 | 1  | 68.61 | 68.51\n",
    "100 | 10 | 91.49 | 91.75\n",
    "100 | 20 | 92.71 | 92.73\n",
    "\n",
    "\n",
    "\n",
    "## W2V + Normalización por observación\n",
    "\n",
    "- Se omite la tabla ya que los maximos se vieron en normalización por feature. Los resultados se dejan expresados más arriba. \n",
    "\n",
    "## W2V + Normalización por feature\n",
    "\n",
    "- Training set. \n",
    "\n",
    "n_estimator | max_depth | entropia | gini\n",
    "--- | --- | --- | ---\n",
    "2 | 1  | 85.74 | 85.64 \n",
    "2 | 10 | 97.41 | 96.97\n",
    "2 | 20 | 99.80 | 99.80\n",
    "5 | 1  | 85.74 | 85.64\n",
    "5 | 10 | 97.41 | 99.80\n",
    "10 | 1  | 85.74 | 85.64\n",
    "10 | 10 | 97.41 | 96.97\n",
    "50 | 1  | 85.74 | 85.64\n",
    "50 | 10 | 97.41 | 96.97\n",
    "50 | 10 | 99.80 | 99.80\n",
    "100 | 1  | 85.74 | 85.64\n",
    "100 | 10 | 97.41 | 96.97\n",
    "100 | 20 | 99.80 | 99.80\n",
    "\n",
    "\n",
    "- Validation set\n",
    "\n",
    "n_estimator | max_depth | entropia | gini\n",
    "--- | --- | --- | ---\n",
    "2 | 1  | 85.74 | 94.52 \n",
    "2 | 10 | 94.52 | 94.58\n",
    "2 | 20 | 95.82 | 95.46\n",
    "5 | 1  | 85.74 |85.70\n",
    "5 | 10 | 94.52 | 94.58\n",
    "100 | 1  | 85.74 | 85.74\n",
    "100 | 10 | 94.52 | 94.58\n",
    "\n",
    "\n",
    "\n",
    "## BERT\n",
    "\n",
    "- Training set. \n",
    "\n",
    "n_estimator | max_depth | entropia | gini\n",
    "--- | --- | --- | ---\n",
    "2 | 1  | 75.12 | 75.12 \n",
    "2 | 10 | 95.73 | 95.29\n",
    "2 | 20 | 96.73 | 95.29\n",
    "5 | 1  | 78.97 | 79.00\n",
    "5 | 10 | 98.17 | 97.67\n",
    "5 | 20 | 99.55 | 99.44\n",
    "10 | 1  | 79.22 | 78.85\n",
    "10 | 10 | 98.74 | 98.28\n",
    "50 | 1  | 87.27 | 87.24\n",
    "50 | 10 | 99.11 | 98.70\n",
    "100 | 1  | 87.28 | 87.28\n",
    "100 | 10 | 99.11 | 98.68\n",
    "100 | 20 | 100 | 99.95\n",
    "\n",
    "\n",
    "\n",
    "\n",
    "- Validation set\n",
    "\n",
    "n_estimator | max_depth | entropia | gini\n",
    "--- | --- | --- | ---\n",
    "2 | 1  | 76.52 | 76.52\n",
    "2 | 10 | 90.95 | 90.46\n",
    "5 | 1  | 78.97 | 89.83\n",
    "5 | 10 | 98.17 | 79.95\n",
    "10 | 1  | 80.25 | 79.91\n",
    "10 | 10 | 96.12 | 95.66\n",
    "50 | 1  | 87.40 | 87.27\n",
    "50 | 10 | 96.76 | 96.18\n",
    "100 | 10 | 87.58 | 87.57\n",
    "100 | 20 | 96.70 | 96.34\n"
   ]
  },
  {
   "cell_type": "markdown",
   "metadata": {},
   "source": [
    "- **¿Mejor rendimiento en los conjuntos de train?** \n",
    "\n",
    "Los mejores resultados fueron presentados por BERT y BoW.\n",
    "\n",
    "- **¿Mejor rendimiento en los conjuntos de validación?** \n",
    "\n",
    "Aquí BERT se impuso fuertemente frente a los otros."
   ]
  },
  {
   "cell_type": "markdown",
   "metadata": {},
   "source": [
    "Algo interesante en Random Forests es que los clasificadores llegan a un máximo al variar la cantidad de profundidad maxima. Por intuición esto podría significar que el árbol ya llego a su profundidad maxima y, por mas que le dejemos crecer mas, ya completó todos sus niveles.\n",
    "\n",
    "El numero de arboles también tiene una gran incidencia en los resultados que vemos. Esto podría estar generando overfitting en algunos casos. Es imperativo generar una buena combinación de profundidad / cantidad de árboles.\n"
   ]
  },
  {
   "cell_type": "markdown",
   "metadata": {},
   "source": [
    "## AC06: Mejor Random Forest\n",
    "\n",
    "Como podemos ver en las tablas, **RF + Bert** presentó los mejores resultados, comparando según rendimientos de set de validacion. Es por esto que elegiremos esta combinación, con los hiperparametros que resultaron más eficientes, para probar nuestro set de test."
   ]
  },
  {
   "cell_type": "code",
   "execution_count": 138,
   "metadata": {},
   "outputs": [
    {
     "name": "stdout",
     "output_type": "stream",
     "text": [
      "0.9525400299504665\n"
     ]
    }
   ],
   "source": [
    "clf = RandomForestClassifier(n_estimators= 5, max_depth=10, criterion= \"entropy\")\n",
    "clf.fit(X_train_bert, y_train_bert)\n",
    "y_pred_test_bert = clf.predict(X_test_bert)\n",
    "print(accuracy_score(y_test_bert, y_pred_test_bert))"
   ]
  },
  {
   "cell_type": "code",
   "execution_count": 140,
   "metadata": {},
   "outputs": [
    {
     "name": "stdout",
     "output_type": "stream",
     "text": [
      "La noticia: \n",
      " WATCH: Democratic Rep SHREDS Republicans For Trying To Repeal Obamacare\n",
      "Tenia un valor real de\n",
      "0\n",
      "Y fue predicha como\n",
      "0\n",
      "\n",
      "\n",
      "La noticia: \n",
      " ‘Racist, Fascist, White Supremacist’: Former NFL Star Chris Kluwe Scorches Trump Over His Attacks On Atheletes\n",
      "Tenia un valor real de\n",
      "0\n",
      "Y fue predicha como\n",
      "0\n",
      "\n",
      "\n",
      "La noticia: \n",
      "Trump revokes Obama guidelines on transgender bathrooms\n",
      "Tenia un valor real de\n",
      "0\n",
      "Y fue predicha como\n",
      "0\n",
      "\n",
      "\n",
      "La noticia: \n",
      "BREAKING: VIOLENCE ERUPTS Outside Of “Deploraball,” Streets Of D.C. Against Trump Supporters [VIDEO]\n",
      "Tenia un valor real de\n",
      "0\n",
      "Y fue predicha como\n",
      "1\n",
      "\n",
      "\n",
      "La noticia: \n",
      "Secret U.S. court issues first order for phone data under new law\n",
      "Tenia un valor real de\n",
      "0\n",
      "Y fue predicha como\n",
      "0\n",
      "\n",
      "\n",
      "La noticia: \n",
      " WATCH: Even Investigation-Obsessed GOP Rep. Jason Chaffetz Says Trump Has No Proof Obama Wiretapped Him\n",
      "Tenia un valor real de\n",
      "1\n",
      "Y fue predicha como\n",
      "0\n",
      "\n",
      "\n",
      "La noticia: \n",
      "Factbox: First 100 days of Trump on Twitter\n",
      "Tenia un valor real de\n",
      "1\n",
      "Y fue predicha como\n",
      "1\n",
      "\n",
      "\n",
      "La noticia: \n",
      "Plane crash in Russia's far east kills six: report\n",
      "Tenia un valor real de\n",
      "0\n",
      "Y fue predicha como\n",
      "0\n",
      "\n",
      "\n",
      "La noticia: \n",
      "Trump doubles monthly campaign fundraising, lags Clinton\n",
      "Tenia un valor real de\n",
      "1\n",
      "Y fue predicha como\n",
      "0\n",
      "\n",
      "\n",
      "La noticia: \n",
      "Pakistan, Afghanistan in angry tangle over border fence to keep out militants\n",
      "Tenia un valor real de\n",
      "1\n",
      "Y fue predicha como\n",
      "0\n",
      "\n",
      "\n",
      "La noticia: \n",
      " Trump Stooge: Women Making Assault Claims Are Too UGLY To Be Believed (VIDEO)\n",
      "Tenia un valor real de\n",
      "1\n",
      "Y fue predicha como\n",
      "0\n",
      "\n",
      "\n",
      "La noticia: \n",
      "TRANSGENDER TARGET SUING Good Samaritan Who Saved Girl From Being Stabbed To Death [VIDEO]\n",
      "Tenia un valor real de\n",
      "1\n",
      "Y fue predicha como\n",
      "0\n",
      "\n",
      "\n",
      "La noticia: \n",
      "Romanian protesters halt building of Xmas fair at protest site\n",
      "Tenia un valor real de\n",
      "0\n",
      "Y fue predicha como\n",
      "1\n",
      "\n",
      "\n",
      "La noticia: \n",
      "Checks for free: a Mexican plan to combat poverty\n",
      "Tenia un valor real de\n",
      "1\n",
      "Y fue predicha como\n",
      "0\n",
      "\n",
      "\n",
      "La noticia: \n",
      "Guatemalans burn Trump effigies to scatter evil spirits\n",
      "Tenia un valor real de\n",
      "0\n",
      "Y fue predicha como\n",
      "1\n",
      "\n",
      "\n"
     ]
    }
   ],
   "source": [
    "for noticia_idx in range(300, 315):\n",
    "    print(\"La noticia: \")\n",
    "    print(test_df['title'].iloc[noticia_idx])\n",
    "    print(\"Tenia un valor real de\")\n",
    "    print(labels_bert[noticia_idx])\n",
    "    print(\"Y fue predicha como\")\n",
    "    print(y_pred_test_bert[noticia_idx])\n",
    "    print(\"\\n\")\n"
   ]
  },
  {
   "cell_type": "markdown",
   "metadata": {},
   "source": [
    "## AC07: Mejor clasificador entre todos\n",
    "\n",
    "Luego de crear multiples experimentos y **muchas** horas de procesamiento, podemos determinar que el método ganador fue  vemos que el mejor clasificador ha sido **BERT + SVM** con un **98.97%**.\n",
    "\n",
    "\n",
    "Podemos observar que la incidencia de los hiperparametros en realmente importante, presentando gran variabilidad de resultados en las tablas de resumen presentadas en cada AC.   \n",
    "\n",
    "Podemos observar como, al usar Word2Vec, existe una incidencia también en si normalizamos o no, si agrupamos por feature o observación, y que tanto en SVM como en RF, existe alta sensibilidad a cambios en la forma en que construimos los hiperplanos.\n",
    "\n",
    "En BERT, si bien solemos observar los mejores resultados, también apreciamos la incidencia de estos hiperparametros, como es el caso del C en SVM o n_estimators en RF.\n",
    "\n",
    "\n",
    "Como ya mencionamos, en SVM, vemos como el factor C es muy importante en los resultados que tenemos. En el kernel lineal vemos que la accuracy suele crecer en conjunto a C, pero también notamos algo interesante: existe un tope. Una vez que el C sigue creciendo, el accuracy baja. Esto se podría deber a que estamos viendo un overfit.\n",
    "\n",
    "El kernel polinomial presenta los peores rendimientos en general, a pesar de variar su C. La razón de esto es, probablemente, debida a la naturaleza y mezcla de datos.\n",
    "\n",
    "RDF suele crecer junto a C, presentando grandes saltos una vez que llegamos a un C óptimo. Esto nos hace pensar que RDF es mas sensible al valor de la penalización de clases que los otros tipos.\n",
    "\n",
    "Algo interesante en Random Forests es que los clasificadores llegan a un máximo al variar la cantidad de profundidad maxima. Por intuición esto podría significar que el árbol ya llego a su profundidad maxima y, por mas que le dejemos crecer mas, ya completó todos sus niveles.\n",
    "\n",
    "El numero de arboles también tiene una gran incidencia en los resultados que vemos. Esto podría estar generando overfitting en algunos casos. Es imperativo generar una buena combinación de profundidad / cantidad de árboles.\n",
    "\n",
    "En la comparación de ambos, Random Forests es mucho más rápido que SVM. Esto se debe probablemente a que la generación de los hiperplanos, en especial en el caso de polinomio, demora much debido a la gran mezcla de datos que tenemos."
   ]
  },
  {
   "cell_type": "code",
   "execution_count": null,
   "metadata": {},
   "outputs": [],
   "source": []
  }
 ],
 "metadata": {
  "kernelspec": {
   "display_name": "Python 3",
   "language": "python",
   "name": "python3"
  }
 },
 "nbformat": 4,
 "nbformat_minor": 4
}
